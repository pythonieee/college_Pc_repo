{
 "cells": [
  {
   "cell_type": "code",
   "execution_count": 1,
   "metadata": {},
   "outputs": [],
   "source": [
    "import pandas as pd \n",
    "import numpy as np \n",
    "import seaborn as sns\n",
    "import matplotlib.pyplot as plt \n",
    "\n",
    "%matplotlib inline\n"
   ]
  },
  {
   "cell_type": "code",
   "execution_count": 3,
   "metadata": {},
   "outputs": [],
   "source": [
    "df=pd.read_csv(\"Travel_and_Commuting_Preferences_cleaned.csv\")"
   ]
  },
  {
   "cell_type": "code",
   "execution_count": 4,
   "metadata": {},
   "outputs": [
    {
     "data": {
      "text/html": [
       "<div>\n",
       "<style scoped>\n",
       "    .dataframe tbody tr th:only-of-type {\n",
       "        vertical-align: middle;\n",
       "    }\n",
       "\n",
       "    .dataframe tbody tr th {\n",
       "        vertical-align: top;\n",
       "    }\n",
       "\n",
       "    .dataframe thead th {\n",
       "        text-align: right;\n",
       "    }\n",
       "</style>\n",
       "<table border=\"1\" class=\"dataframe\">\n",
       "  <thead>\n",
       "    <tr style=\"text-align: right;\">\n",
       "      <th></th>\n",
       "      <th>Unnamed: 0</th>\n",
       "      <th>Name</th>\n",
       "      <th>Age</th>\n",
       "      <th>Gender</th>\n",
       "      <th>Mode_of_transport</th>\n",
       "      <th>Distance(in_km)</th>\n",
       "      <th>Time_taken(min)</th>\n",
       "      <th>Amount_spent_monthly</th>\n",
       "      <th>Satisfaction</th>\n",
       "    </tr>\n",
       "  </thead>\n",
       "  <tbody>\n",
       "    <tr>\n",
       "      <th>0</th>\n",
       "      <td>0</td>\n",
       "      <td>Vedant Sunil Patil</td>\n",
       "      <td>17</td>\n",
       "      <td>Male</td>\n",
       "      <td>Bus</td>\n",
       "      <td>20.0</td>\n",
       "      <td>120.0</td>\n",
       "      <td>800.0</td>\n",
       "      <td>3</td>\n",
       "    </tr>\n",
       "    <tr>\n",
       "      <th>1</th>\n",
       "      <td>1</td>\n",
       "      <td>VISHISHT PAL</td>\n",
       "      <td>17</td>\n",
       "      <td>Male</td>\n",
       "      <td>Bike/ Scoter (Petrol)</td>\n",
       "      <td>3.0</td>\n",
       "      <td>10.0</td>\n",
       "      <td>500.0</td>\n",
       "      <td>3</td>\n",
       "    </tr>\n",
       "    <tr>\n",
       "      <th>2</th>\n",
       "      <td>4</td>\n",
       "      <td>Yash Dharao</td>\n",
       "      <td>19</td>\n",
       "      <td>Male</td>\n",
       "      <td>Bike/ Scoter (Petrol)</td>\n",
       "      <td>12.0</td>\n",
       "      <td>25.0</td>\n",
       "      <td>2000.0</td>\n",
       "      <td>3</td>\n",
       "    </tr>\n",
       "    <tr>\n",
       "      <th>3</th>\n",
       "      <td>5</td>\n",
       "      <td>Raj Upadhye</td>\n",
       "      <td>19</td>\n",
       "      <td>Male</td>\n",
       "      <td>Walking</td>\n",
       "      <td>1.2</td>\n",
       "      <td>30.0</td>\n",
       "      <td>0.0</td>\n",
       "      <td>5</td>\n",
       "    </tr>\n",
       "    <tr>\n",
       "      <th>4</th>\n",
       "      <td>6</td>\n",
       "      <td>Romit</td>\n",
       "      <td>18</td>\n",
       "      <td>Male</td>\n",
       "      <td>Bus</td>\n",
       "      <td>5.0</td>\n",
       "      <td>20.0</td>\n",
       "      <td>15.0</td>\n",
       "      <td>5</td>\n",
       "    </tr>\n",
       "  </tbody>\n",
       "</table>\n",
       "</div>"
      ],
      "text/plain": [
       "   Unnamed: 0                Name  Age Gender      Mode_of_transport  \\\n",
       "0           0  Vedant Sunil Patil   17   Male                    Bus   \n",
       "1           1        VISHISHT PAL   17   Male  Bike/ Scoter (Petrol)   \n",
       "2           4        Yash Dharao    19   Male  Bike/ Scoter (Petrol)   \n",
       "3           5         Raj Upadhye   19   Male                Walking   \n",
       "4           6               Romit   18   Male                    Bus   \n",
       "\n",
       "   Distance(in_km)  Time_taken(min)  Amount_spent_monthly  Satisfaction  \n",
       "0             20.0            120.0                 800.0             3  \n",
       "1              3.0             10.0                 500.0             3  \n",
       "2             12.0             25.0                2000.0             3  \n",
       "3              1.2             30.0                   0.0             5  \n",
       "4              5.0             20.0                  15.0             5  "
      ]
     },
     "execution_count": 4,
     "metadata": {},
     "output_type": "execute_result"
    }
   ],
   "source": [
    "df.head()"
   ]
  },
  {
   "cell_type": "code",
   "execution_count": 5,
   "metadata": {},
   "outputs": [
    {
     "data": {
      "text/plain": [
       "Index(['Unnamed: 0', 'Name', 'Age', 'Gender', 'Mode_of_transport',\n",
       "       'Distance(in_km)', 'Time_taken(min)', 'Amount_spent_monthly',\n",
       "       'Satisfaction'],\n",
       "      dtype='object')"
      ]
     },
     "execution_count": 5,
     "metadata": {},
     "output_type": "execute_result"
    }
   ],
   "source": [
    "df.columns"
   ]
  },
  {
   "cell_type": "code",
   "execution_count": 6,
   "metadata": {},
   "outputs": [],
   "source": [
    "df.drop(columns=['Unnamed: 0'],inplace=True)"
   ]
  },
  {
   "cell_type": "code",
   "execution_count": 7,
   "metadata": {},
   "outputs": [
    {
     "data": {
      "text/html": [
       "<div>\n",
       "<style scoped>\n",
       "    .dataframe tbody tr th:only-of-type {\n",
       "        vertical-align: middle;\n",
       "    }\n",
       "\n",
       "    .dataframe tbody tr th {\n",
       "        vertical-align: top;\n",
       "    }\n",
       "\n",
       "    .dataframe thead th {\n",
       "        text-align: right;\n",
       "    }\n",
       "</style>\n",
       "<table border=\"1\" class=\"dataframe\">\n",
       "  <thead>\n",
       "    <tr style=\"text-align: right;\">\n",
       "      <th></th>\n",
       "      <th>Name</th>\n",
       "      <th>Age</th>\n",
       "      <th>Gender</th>\n",
       "      <th>Mode_of_transport</th>\n",
       "      <th>Distance(in_km)</th>\n",
       "      <th>Time_taken(min)</th>\n",
       "      <th>Amount_spent_monthly</th>\n",
       "      <th>Satisfaction</th>\n",
       "    </tr>\n",
       "  </thead>\n",
       "  <tbody>\n",
       "    <tr>\n",
       "      <th>0</th>\n",
       "      <td>Vedant Sunil Patil</td>\n",
       "      <td>17</td>\n",
       "      <td>Male</td>\n",
       "      <td>Bus</td>\n",
       "      <td>20.0</td>\n",
       "      <td>120.0</td>\n",
       "      <td>800.0</td>\n",
       "      <td>3</td>\n",
       "    </tr>\n",
       "    <tr>\n",
       "      <th>1</th>\n",
       "      <td>VISHISHT PAL</td>\n",
       "      <td>17</td>\n",
       "      <td>Male</td>\n",
       "      <td>Bike/ Scoter (Petrol)</td>\n",
       "      <td>3.0</td>\n",
       "      <td>10.0</td>\n",
       "      <td>500.0</td>\n",
       "      <td>3</td>\n",
       "    </tr>\n",
       "    <tr>\n",
       "      <th>2</th>\n",
       "      <td>Yash Dharao</td>\n",
       "      <td>19</td>\n",
       "      <td>Male</td>\n",
       "      <td>Bike/ Scoter (Petrol)</td>\n",
       "      <td>12.0</td>\n",
       "      <td>25.0</td>\n",
       "      <td>2000.0</td>\n",
       "      <td>3</td>\n",
       "    </tr>\n",
       "    <tr>\n",
       "      <th>3</th>\n",
       "      <td>Raj Upadhye</td>\n",
       "      <td>19</td>\n",
       "      <td>Male</td>\n",
       "      <td>Walking</td>\n",
       "      <td>1.2</td>\n",
       "      <td>30.0</td>\n",
       "      <td>0.0</td>\n",
       "      <td>5</td>\n",
       "    </tr>\n",
       "    <tr>\n",
       "      <th>4</th>\n",
       "      <td>Romit</td>\n",
       "      <td>18</td>\n",
       "      <td>Male</td>\n",
       "      <td>Bus</td>\n",
       "      <td>5.0</td>\n",
       "      <td>20.0</td>\n",
       "      <td>15.0</td>\n",
       "      <td>5</td>\n",
       "    </tr>\n",
       "  </tbody>\n",
       "</table>\n",
       "</div>"
      ],
      "text/plain": [
       "                 Name  Age Gender      Mode_of_transport  Distance(in_km)  \\\n",
       "0  Vedant Sunil Patil   17   Male                    Bus             20.0   \n",
       "1        VISHISHT PAL   17   Male  Bike/ Scoter (Petrol)              3.0   \n",
       "2        Yash Dharao    19   Male  Bike/ Scoter (Petrol)             12.0   \n",
       "3         Raj Upadhye   19   Male                Walking              1.2   \n",
       "4               Romit   18   Male                    Bus              5.0   \n",
       "\n",
       "   Time_taken(min)  Amount_spent_monthly  Satisfaction  \n",
       "0            120.0                 800.0             3  \n",
       "1             10.0                 500.0             3  \n",
       "2             25.0                2000.0             3  \n",
       "3             30.0                   0.0             5  \n",
       "4             20.0                  15.0             5  "
      ]
     },
     "execution_count": 7,
     "metadata": {},
     "output_type": "execute_result"
    }
   ],
   "source": [
    "df.head()"
   ]
  },
  {
   "cell_type": "code",
   "execution_count": 8,
   "metadata": {},
   "outputs": [
    {
     "data": {
      "text/html": [
       "<div>\n",
       "<style scoped>\n",
       "    .dataframe tbody tr th:only-of-type {\n",
       "        vertical-align: middle;\n",
       "    }\n",
       "\n",
       "    .dataframe tbody tr th {\n",
       "        vertical-align: top;\n",
       "    }\n",
       "\n",
       "    .dataframe thead th {\n",
       "        text-align: right;\n",
       "    }\n",
       "</style>\n",
       "<table border=\"1\" class=\"dataframe\">\n",
       "  <thead>\n",
       "    <tr style=\"text-align: right;\">\n",
       "      <th></th>\n",
       "      <th>Age</th>\n",
       "      <th>Distance(in_km)</th>\n",
       "      <th>Time_taken(min)</th>\n",
       "      <th>Amount_spent_monthly</th>\n",
       "      <th>Satisfaction</th>\n",
       "    </tr>\n",
       "  </thead>\n",
       "  <tbody>\n",
       "    <tr>\n",
       "      <th>count</th>\n",
       "      <td>72.000000</td>\n",
       "      <td>72.000000</td>\n",
       "      <td>72.000000</td>\n",
       "      <td>72.000000</td>\n",
       "      <td>72.000000</td>\n",
       "    </tr>\n",
       "    <tr>\n",
       "      <th>mean</th>\n",
       "      <td>19.027778</td>\n",
       "      <td>16.267639</td>\n",
       "      <td>40.305556</td>\n",
       "      <td>2377.569444</td>\n",
       "      <td>3.069444</td>\n",
       "    </tr>\n",
       "    <tr>\n",
       "      <th>std</th>\n",
       "      <td>3.002216</td>\n",
       "      <td>8.631108</td>\n",
       "      <td>23.947501</td>\n",
       "      <td>1621.451619</td>\n",
       "      <td>1.387331</td>\n",
       "    </tr>\n",
       "    <tr>\n",
       "      <th>min</th>\n",
       "      <td>5.000000</td>\n",
       "      <td>0.570000</td>\n",
       "      <td>5.000000</td>\n",
       "      <td>0.000000</td>\n",
       "      <td>1.000000</td>\n",
       "    </tr>\n",
       "    <tr>\n",
       "      <th>25%</th>\n",
       "      <td>17.750000</td>\n",
       "      <td>9.750000</td>\n",
       "      <td>21.500000</td>\n",
       "      <td>1067.250000</td>\n",
       "      <td>2.000000</td>\n",
       "    </tr>\n",
       "    <tr>\n",
       "      <th>50%</th>\n",
       "      <td>18.000000</td>\n",
       "      <td>18.000000</td>\n",
       "      <td>34.500000</td>\n",
       "      <td>2213.500000</td>\n",
       "      <td>3.000000</td>\n",
       "    </tr>\n",
       "    <tr>\n",
       "      <th>75%</th>\n",
       "      <td>21.000000</td>\n",
       "      <td>22.250000</td>\n",
       "      <td>57.250000</td>\n",
       "      <td>3101.000000</td>\n",
       "      <td>4.000000</td>\n",
       "    </tr>\n",
       "    <tr>\n",
       "      <th>max</th>\n",
       "      <td>29.000000</td>\n",
       "      <td>30.000000</td>\n",
       "      <td>120.000000</td>\n",
       "      <td>10000.000000</td>\n",
       "      <td>5.000000</td>\n",
       "    </tr>\n",
       "  </tbody>\n",
       "</table>\n",
       "</div>"
      ],
      "text/plain": [
       "             Age  Distance(in_km)  Time_taken(min)  Amount_spent_monthly  \\\n",
       "count  72.000000        72.000000        72.000000             72.000000   \n",
       "mean   19.027778        16.267639        40.305556           2377.569444   \n",
       "std     3.002216         8.631108        23.947501           1621.451619   \n",
       "min     5.000000         0.570000         5.000000              0.000000   \n",
       "25%    17.750000         9.750000        21.500000           1067.250000   \n",
       "50%    18.000000        18.000000        34.500000           2213.500000   \n",
       "75%    21.000000        22.250000        57.250000           3101.000000   \n",
       "max    29.000000        30.000000       120.000000          10000.000000   \n",
       "\n",
       "       Satisfaction  \n",
       "count     72.000000  \n",
       "mean       3.069444  \n",
       "std        1.387331  \n",
       "min        1.000000  \n",
       "25%        2.000000  \n",
       "50%        3.000000  \n",
       "75%        4.000000  \n",
       "max        5.000000  "
      ]
     },
     "execution_count": 8,
     "metadata": {},
     "output_type": "execute_result"
    }
   ],
   "source": [
    "df.describe()"
   ]
  },
  {
   "cell_type": "code",
   "execution_count": 20,
   "metadata": {},
   "outputs": [],
   "source": [
    "df['Mode_of_transport']=df['Mode_of_transport'].str.replace(\"Local \",\"\")\n",
    "df['Mode_of_transport']=df['Mode_of_transport'].str.replace(\"Scooter\",\"Scoter\")\n"
   ]
  },
  {
   "cell_type": "code",
   "execution_count": 21,
   "metadata": {},
   "outputs": [
    {
     "data": {
      "text/plain": [
       "array(['Bus', 'Bike/ Scoter (Petrol)', 'Walking', 'Train', 'Bicycle',\n",
       "       'EV', 'Rickshaw', 'Carpool'], dtype=object)"
      ]
     },
     "execution_count": 21,
     "metadata": {},
     "output_type": "execute_result"
    }
   ],
   "source": [
    "df['Mode_of_transport'].unique()"
   ]
  },
  {
   "cell_type": "code",
   "execution_count": 34,
   "metadata": {},
   "outputs": [
    {
     "data": {
      "text/plain": [
       "['Distance(in_km)', 'Time_taken(min)']"
      ]
     },
     "execution_count": 34,
     "metadata": {},
     "output_type": "execute_result"
    }
   ],
   "source": [
    "x_num"
   ]
  },
  {
   "cell_type": "code",
   "execution_count": 32,
   "metadata": {},
   "outputs": [
    {
     "data": {
      "text/plain": [
       "dtype('float64')"
      ]
     },
     "execution_count": 32,
     "metadata": {},
     "output_type": "execute_result"
    }
   ],
   "source": [
    "df['Distance(in_km)'].dtype"
   ]
  },
  {
   "cell_type": "code",
   "execution_count": 47,
   "metadata": {},
   "outputs": [
    {
     "ename": "AttributeError",
     "evalue": "'Series' object has no attribute 'columns'",
     "output_type": "error",
     "traceback": [
      "\u001b[31m---------------------------------------------------------------------------\u001b[39m",
      "\u001b[31mAttributeError\u001b[39m                            Traceback (most recent call last)",
      "\u001b[32m~\\AppData\\Local\\Temp\\ipykernel_1084\\1707819818.py\u001b[39m in \u001b[36m?\u001b[39m\u001b[34m()\u001b[39m\n\u001b[32m      1\u001b[39m \u001b[38;5;28;01mfrom\u001b[39;00m sklearn.preprocessing \u001b[38;5;28;01mimport\u001b[39;00m OrdinalEncoder,StandardScaler ,OneHotEncoder\n\u001b[32m      2\u001b[39m \u001b[38;5;28;01mfrom\u001b[39;00m sklearn.compose \u001b[38;5;28;01mimport\u001b[39;00m ColumnTransformer\n\u001b[32m      3\u001b[39m x=df[\u001b[33m'Distance(in_km)'\u001b[39m]\n\u001b[32m      4\u001b[39m y=df[\u001b[33m'Amount_spent_monthly'\u001b[39m]\n\u001b[32m----> \u001b[39m\u001b[32m5\u001b[39m x_num=[i \u001b[38;5;28;01mfor\u001b[39;00m i \u001b[38;5;28;01min\u001b[39;00m x.columns \u001b[38;5;28;01mif\u001b[39;00m df[i].dtype == \u001b[33m'float64'\u001b[39m]\n\u001b[32m      6\u001b[39m x_cat=[i \u001b[38;5;28;01mfor\u001b[39;00m i \u001b[38;5;28;01min\u001b[39;00m x.columns \u001b[38;5;28;01mif\u001b[39;00m i \u001b[38;5;28;01mnot\u001b[39;00m \u001b[38;5;28;01min\u001b[39;00m x_num]\n\u001b[32m      7\u001b[39m transformer=ColumnTransformer(transformers=[(\u001b[33m\"labelencoder\"\u001b[39m,OneHotEncoder(),x_cat),(\u001b[33m\"StandardScaler\"\u001b[39m,StandardScaler(),x_num)])\n\u001b[32m      8\u001b[39m x=transformer.fit_transform(x)\n",
      "\u001b[32mc:\\Program Files\\Python313\\Lib\\site-packages\\pandas\\core\\generic.py\u001b[39m in \u001b[36m?\u001b[39m\u001b[34m(self, name)\u001b[39m\n\u001b[32m   6295\u001b[39m             \u001b[38;5;28;01mand\u001b[39;00m name \u001b[38;5;28;01mnot\u001b[39;00m \u001b[38;5;28;01min\u001b[39;00m self._accessors\n\u001b[32m   6296\u001b[39m             \u001b[38;5;28;01mand\u001b[39;00m self._info_axis._can_hold_identifiers_and_holds_name(name)\n\u001b[32m   6297\u001b[39m         ):\n\u001b[32m   6298\u001b[39m             \u001b[38;5;28;01mreturn\u001b[39;00m self[name]\n\u001b[32m-> \u001b[39m\u001b[32m6299\u001b[39m         \u001b[38;5;28;01mreturn\u001b[39;00m object.__getattribute__(self, name)\n",
      "\u001b[31mAttributeError\u001b[39m: 'Series' object has no attribute 'columns'"
     ]
    }
   ],
   "source": [
    "from sklearn.preprocessing import OrdinalEncoder,StandardScaler ,OneHotEncoder\n",
    "from sklearn.compose import ColumnTransformer\n",
    "x=df['Distance(in_km)']\n",
    "y=df['Amount_spent_monthly']\n",
    "x_num=[i for i in x.columns if df[i].dtype == 'float64']\n",
    "x_cat=[i for i in x.columns if i not in x_num]\n",
    "transformer=ColumnTransformer(transformers=[(\"labelencoder\",OneHotEncoder(),x_cat),(\"StandardScaler\",StandardScaler(),x_num)])\n",
    "x=transformer.fit_transform(x)"
   ]
  },
  {
   "cell_type": "code",
   "execution_count": 45,
   "metadata": {},
   "outputs": [],
   "source": [
    "from sklearn.model_selection import train_test_split\n",
    "X_train,X_test,y_train,y_test=train_test_split(x,y,test_size=0.25,random_state=42)"
   ]
  },
  {
   "cell_type": "code",
   "execution_count": 46,
   "metadata": {},
   "outputs": [
    {
     "name": "stdout",
     "output_type": "stream",
     "text": [
      "-----------------(LinearRegression-----------------)\n",
      "-root_mean_squared_error : 1705.7448339433183\n",
      "-mean_absolute_error : 1497.7325711657602\n",
      "-mean_squared_error : 2909565.438524319\n",
      "-r2_score : -0.9155187255146424\n",
      "=================================================\n",
      "\n",
      " \n",
      "\n",
      "-----------------(Ridge-----------------)\n",
      "-root_mean_squared_error : 1702.0268585395386\n",
      "-mean_absolute_error : 1494.9026142415628\n",
      "-mean_squared_error : 2896895.4271899704\n",
      "-r2_score : -0.9071773960356475\n",
      "=================================================\n",
      "\n",
      " \n",
      "\n",
      "-----------------(Lasso-----------------)\n",
      "-root_mean_squared_error : 1705.1436984832926\n",
      "-mean_absolute_error : 1497.2762056647114\n",
      "-mean_squared_error : 2907515.032477282\n",
      "-r2_score : -0.9141688362404559\n",
      "=================================================\n",
      "\n",
      " \n",
      "\n",
      "-----------------(RandomForestRegressor-----------------)\n",
      "-root_mean_squared_error : 1991.1739871496973\n",
      "-mean_absolute_error : 1245.6582744708994\n",
      "-mean_squared_error : 3964773.847101623\n",
      "-r2_score : -1.6102174730277707\n",
      "=================================================\n",
      "\n",
      " \n",
      "\n",
      "-----------------(DecisionTreeRegressor-----------------)\n",
      "-root_mean_squared_error : 2162.1098584770057\n",
      "-mean_absolute_error : 1370.5370370370372\n",
      "-mean_squared_error : 4674719.040123457\n",
      "-r2_score : -2.0776114327292423\n",
      "=================================================\n",
      "\n",
      " \n",
      "\n",
      "-----------------(KNeighborsRegressor-----------------)\n",
      "-root_mean_squared_error : 1879.3427713491285\n",
      "-mean_absolute_error : 1529.3222222222225\n",
      "-mean_squared_error : 3531929.2522222227\n",
      "-r2_score : -1.3252532939269197\n",
      "=================================================\n",
      "\n",
      " \n",
      "\n"
     ]
    }
   ],
   "source": [
    "from sklearn.linear_model import LinearRegression , Ridge , Lasso\n",
    "from sklearn.ensemble import RandomForestRegressor\n",
    "from sklearn.tree import DecisionTreeRegressor \n",
    "from sklearn.neighbors import KNeighborsRegressor\n",
    "from sklearn.metrics import mean_squared_error,mean_absolute_error,root_mean_squared_error,r2_score\n",
    "models={\"LinearRegression\":LinearRegression(),\"Ridge\":Ridge(),\"Lasso\":Lasso(),\"RandomForestRegressor\":RandomForestRegressor(),\n",
    "        \"DecisionTreeRegressor\":DecisionTreeRegressor(),\"KNeighborsRegressor\":KNeighborsRegressor()}\n",
    "\n",
    "\n",
    "for model_name,model in models.items() :\n",
    "    model.fit(X_train,y_train)\n",
    "    y_pred=model.predict(X_test)\n",
    "\n",
    "    ## printing the metrics \n",
    "    print(f\"-----------------({model_name}-----------------)\")\n",
    "    print(f\"-root_mean_squared_error : {root_mean_squared_error(y_test,y_pred)}\")\n",
    "    print(f\"-mean_absolute_error : {mean_absolute_error(y_test,y_pred)}\")\n",
    "    print(f\"-mean_squared_error : {mean_squared_error(y_test,y_pred)}\")\n",
    "    print(f\"-r2_score : {r2_score(y_test,y_pred)}\")\n",
    "    print(\"=================================================\")\n",
    "    print(\"\\n \\n\")\n",
    "\n",
    "\n",
    "\n"
   ]
  },
  {
   "cell_type": "code",
   "execution_count": 13,
   "metadata": {},
   "outputs": [
    {
     "data": {
      "image/png": "[encoded data removed]",
      "text/plain": [
       "<Figure size 640x480 with 1 Axes>"
      ]
     },
     "metadata": {},
     "output_type": "display_data"
    }
   ],
   "source": [
    "plt.scatter(df['Amount_spent_monthly'],df['Distance(in_km)'],marker='+',color='red')\n",
    "plt.xlabel(\"Amount spent monthly\")\n",
    "plt.ylabel(\"Distance\")\n",
    "plt.show()"
   ]
  },
  {
   "cell_type": "code",
   "execution_count": null,
   "metadata": {},
   "outputs": [],
   "source": []
  }
 ],
 "metadata": {
  "kernelspec": {
   "display_name": "Python 3",
   "language": "python",
   "name": "python3"
  },
  "language_info": {
   "codemirror_mode": {
    "name": "ipython",
    "version": 3
   },
   "file_extension": ".py",
   "mimetype": "text/x-python",
   "name": "python",
   "nbconvert_exporter": "python",
   "pygments_lexer": "ipython3",
   "version": "3.13.0"
  }
 },
 "nbformat": 4,
 "nbformat_minor": 2
}
