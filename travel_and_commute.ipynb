{
 "cells": [
  {
   "cell_type": "code",
   "execution_count": 2,
   "metadata": {},
   "outputs": [],
   "source": [
    "import numpy as np\n",
    "import pandas as pd \n",
    "import matplotlib.pyplot as plt \n",
    "import seaborn as sns\n",
    "\n",
    "%matplotlib inline \n"
   ]
  },
  {
   "cell_type": "code",
   "execution_count": 3,
   "metadata": {},
   "outputs": [],
   "source": [
    "df=pd.read_csv(\"Travel_and_Commuting_Preferences_cleaned.csv\")"
   ]
  },
  {
   "cell_type": "code",
   "execution_count": 4,
   "metadata": {},
   "outputs": [
    {
     "data": {
      "text/html": [
       "<div>\n",
       "<style scoped>\n",
       "    .dataframe tbody tr th:only-of-type {\n",
       "        vertical-align: middle;\n",
       "    }\n",
       "\n",
       "    .dataframe tbody tr th {\n",
       "        vertical-align: top;\n",
       "    }\n",
       "\n",
       "    .dataframe thead th {\n",
       "        text-align: right;\n",
       "    }\n",
       "</style>\n",
       "<table border=\"1\" class=\"dataframe\">\n",
       "  <thead>\n",
       "    <tr style=\"text-align: right;\">\n",
       "      <th></th>\n",
       "      <th>Unnamed: 0</th>\n",
       "      <th>Name</th>\n",
       "      <th>Age</th>\n",
       "      <th>Gender</th>\n",
       "      <th>Mode_of_transport</th>\n",
       "      <th>Distance(in_km)</th>\n",
       "      <th>Time_taken(min)</th>\n",
       "      <th>Amount_spent_monthly</th>\n",
       "      <th>Satisfaction</th>\n",
       "    </tr>\n",
       "  </thead>\n",
       "  <tbody>\n",
       "    <tr>\n",
       "      <th>0</th>\n",
       "      <td>0</td>\n",
       "      <td>Vedant Sunil Patil</td>\n",
       "      <td>17</td>\n",
       "      <td>Male</td>\n",
       "      <td>Bus</td>\n",
       "      <td>20.0</td>\n",
       "      <td>120.0</td>\n",
       "      <td>800.0</td>\n",
       "      <td>3</td>\n",
       "    </tr>\n",
       "    <tr>\n",
       "      <th>1</th>\n",
       "      <td>1</td>\n",
       "      <td>VISHISHT PAL</td>\n",
       "      <td>17</td>\n",
       "      <td>Male</td>\n",
       "      <td>Bike/ Scoter (Petrol)</td>\n",
       "      <td>3.0</td>\n",
       "      <td>10.0</td>\n",
       "      <td>500.0</td>\n",
       "      <td>3</td>\n",
       "    </tr>\n",
       "    <tr>\n",
       "      <th>2</th>\n",
       "      <td>4</td>\n",
       "      <td>Yash Dharao</td>\n",
       "      <td>19</td>\n",
       "      <td>Male</td>\n",
       "      <td>Bike/ Scoter (Petrol)</td>\n",
       "      <td>12.0</td>\n",
       "      <td>25.0</td>\n",
       "      <td>2000.0</td>\n",
       "      <td>3</td>\n",
       "    </tr>\n",
       "    <tr>\n",
       "      <th>3</th>\n",
       "      <td>5</td>\n",
       "      <td>Raj Upadhye</td>\n",
       "      <td>19</td>\n",
       "      <td>Male</td>\n",
       "      <td>Walking</td>\n",
       "      <td>1.2</td>\n",
       "      <td>30.0</td>\n",
       "      <td>0.0</td>\n",
       "      <td>5</td>\n",
       "    </tr>\n",
       "    <tr>\n",
       "      <th>4</th>\n",
       "      <td>6</td>\n",
       "      <td>Romit</td>\n",
       "      <td>18</td>\n",
       "      <td>Male</td>\n",
       "      <td>Bus</td>\n",
       "      <td>5.0</td>\n",
       "      <td>20.0</td>\n",
       "      <td>15.0</td>\n",
       "      <td>5</td>\n",
       "    </tr>\n",
       "  </tbody>\n",
       "</table>\n",
       "</div>"
      ],
      "text/plain": [
       "   Unnamed: 0                Name  Age Gender      Mode_of_transport  \\\n",
       "0           0  Vedant Sunil Patil   17   Male                    Bus   \n",
       "1           1        VISHISHT PAL   17   Male  Bike/ Scoter (Petrol)   \n",
       "2           4        Yash Dharao    19   Male  Bike/ Scoter (Petrol)   \n",
       "3           5         Raj Upadhye   19   Male                Walking   \n",
       "4           6               Romit   18   Male                    Bus   \n",
       "\n",
       "   Distance(in_km)  Time_taken(min)  Amount_spent_monthly  Satisfaction  \n",
       "0             20.0            120.0                 800.0             3  \n",
       "1              3.0             10.0                 500.0             3  \n",
       "2             12.0             25.0                2000.0             3  \n",
       "3              1.2             30.0                   0.0             5  \n",
       "4              5.0             20.0                  15.0             5  "
      ]
     },
     "execution_count": 4,
     "metadata": {},
     "output_type": "execute_result"
    }
   ],
   "source": [
    "df.head()"
   ]
  },
  {
   "cell_type": "code",
   "execution_count": 5,
   "metadata": {},
   "outputs": [
    {
     "name": "stdout",
     "output_type": "stream",
     "text": [
      "<class 'pandas.core.frame.DataFrame'>\n",
      "RangeIndex: 72 entries, 0 to 71\n",
      "Data columns (total 9 columns):\n",
      " #   Column                Non-Null Count  Dtype  \n",
      "---  ------                --------------  -----  \n",
      " 0   Unnamed: 0            72 non-null     int64  \n",
      " 1   Name                  72 non-null     object \n",
      " 2   Age                   72 non-null     int64  \n",
      " 3   Gender                72 non-null     object \n",
      " 4   Mode_of_transport     72 non-null     object \n",
      " 5   Distance(in_km)       72 non-null     float64\n",
      " 6   Time_taken(min)       72 non-null     float64\n",
      " 7   Amount_spent_monthly  72 non-null     float64\n",
      " 8   Satisfaction          72 non-null     int64  \n",
      "dtypes: float64(3), int64(3), object(3)\n",
      "memory usage: 5.2+ KB\n"
     ]
    }
   ],
   "source": [
    "df.info()"
   ]
  },
  {
   "cell_type": "code",
   "execution_count": 6,
   "metadata": {},
   "outputs": [
    {
     "data": {
      "text/plain": [
       "Index(['Unnamed: 0', 'Name', 'Age', 'Gender', 'Mode_of_transport',\n",
       "       'Distance(in_km)', 'Time_taken(min)', 'Amount_spent_monthly',\n",
       "       'Satisfaction'],\n",
       "      dtype='object')"
      ]
     },
     "execution_count": 6,
     "metadata": {},
     "output_type": "execute_result"
    }
   ],
   "source": [
    "df.columns"
   ]
  },
  {
   "cell_type": "code",
   "execution_count": 7,
   "metadata": {},
   "outputs": [],
   "source": [
    "df.drop(columns=['Unnamed: 0'],inplace=True)"
   ]
  },
  {
   "cell_type": "code",
   "execution_count": 8,
   "metadata": {},
   "outputs": [
    {
     "data": {
      "text/plain": [
       "['Age',\n",
       " 'Distance(in_km)',\n",
       " 'Time_taken(min)',\n",
       " 'Amount_spent_monthly',\n",
       " 'Satisfaction']"
      ]
     },
     "execution_count": 8,
     "metadata": {},
     "output_type": "execute_result"
    }
   ],
   "source": [
    "[i for i in df.columns if df[i].dtype!=\"O\"]"
   ]
  },
  {
   "cell_type": "code",
   "execution_count": 9,
   "metadata": {},
   "outputs": [
    {
     "data": {
      "text/plain": [
       "<Axes: >"
      ]
     },
     "execution_count": 9,
     "metadata": {},
     "output_type": "execute_result"
    },
    {
     "data": {
      "image/png": "[encoded data removed]",
      "text/plain": [
       "<Figure size 640x480 with 2 Axes>"
      ]
     },
     "metadata": {},
     "output_type": "display_data"
    }
   ],
   "source": [
    "sns.heatmap(df[[i for i in df.columns if df[i].dtype!=\"O\"]].corr(),annot=True)"
   ]
  },
  {
   "cell_type": "code",
   "execution_count": 10,
   "metadata": {},
   "outputs": [],
   "source": [
    "X=df.drop(columns=['Age','Name','Gender','Satisfaction'])\n",
    "y=df['Satisfaction']"
   ]
  },
  {
   "cell_type": "code",
   "execution_count": 11,
   "metadata": {},
   "outputs": [],
   "source": [
    "from sklearn.model_selection import train_test_split\n",
    "X_train,X_test,y_train,y_test=train_test_split(X,y,test_size=0.25,random_state=42)"
   ]
  },
  {
   "cell_type": "code",
   "execution_count": 12,
   "metadata": {},
   "outputs": [],
   "source": [
    "from sklearn.preprocessing import LabelEncoder,OrdinalEncoder,OneHotEncoder,StandardScaler,OneHotEncoder\n",
    "from sklearn.compose import ColumnTransformer\n",
    "X_num=[i for i in X.columns if X[i].dtype !='O']\n",
    "x_cat=[i for i in X.columns if i not in X_num]\n",
    "Transformer=ColumnTransformer(transformers=[(\"StandardScaler\",StandardScaler(),X_num),(\"OneHotEncoder\",OneHotEncoder(),x_cat)],\n",
    "                              )\n",
    "X_train=Transformer.fit_transform(X_train)\n",
    "X_test=Transformer.transform(X_test)\n"
   ]
  },
  {
   "cell_type": "code",
   "execution_count": 50,
   "metadata": {},
   "outputs": [
    {
     "name": "stdout",
     "output_type": "stream",
     "text": [
      "accuracy_score : 0.16666666666666666 \n",
      "f1_score : 0.10052910052910052 \n",
      "recall_score : 0.16666666666666666 \n"
     ]
    }
   ],
   "source": [
    "## USing Random forest classifier\n",
    "from sklearn.ensemble import RandomForestClassifier,AdaBoostClassifier\n",
    "from sklearn.metrics import roc_auc_score,f1_score, recall_score,accuracy_score\n",
    "random_forest=AdaBoostClassifier()\n",
    "random_forest.fit(X_train,y_train)\n",
    "y_pred=random_forest.predict(X_test)\n",
    "\n",
    "## Calculating the metrics score \n",
    "\n",
    "accuracy_score_=accuracy_score(y_test,y_pred)\n",
    "f1_score_=f1_score(y_test,y_pred,average=\"weighted\")\n",
    "recall_score_=recall_score(y_test,y_pred,average=\"weighted\")\n",
    "\n",
    "## Printing out the scores \n",
    "print(f\"accuracy_score : {accuracy_score_} \")\n",
    "print(f\"f1_score : {f1_score_} \")\n",
    "print(f\"recall_score : {recall_score_} \")\n"
   ]
  },
  {
   "cell_type": "code",
   "execution_count": null,
   "metadata": {},
   "outputs": [],
   "source": []
  }
 ],
 "metadata": {
  "kernelspec": {
   "display_name": "Python 3",
   "language": "python",
   "name": "python3"
  },
  "language_info": {
   "codemirror_mode": {
    "name": "ipython",
    "version": 3
   },
   "file_extension": ".py",
   "mimetype": "text/x-python",
   "name": "python",
   "nbconvert_exporter": "python",
   "pygments_lexer": "ipython3",
   "version": "3.13.0"
  }
 },
 "nbformat": 4,
 "nbformat_minor": 2
}
