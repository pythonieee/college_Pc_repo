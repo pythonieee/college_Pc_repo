{
 "cells": [
  {
   "cell_type": "code",
   "execution_count": 125,
   "metadata": {},
   "outputs": [],
   "source": [
    "import pandas as pd \n",
    "import numpy as np\n",
    "import matplotlib.pyplot as plt \n",
    "import seaborn as sns\n",
    "import warnings \n",
    "warnings.filterwarnings(\"ignore\")\n",
    "\n",
    "%matplotlib inline \n"
   ]
  },
  {
   "cell_type": "code",
   "execution_count": 3,
   "metadata": {},
   "outputs": [],
   "source": [
    "df=pd.read_csv(\"Travel_and_Commuting_Preferences.csv\")"
   ]
  },
  {
   "cell_type": "code",
   "execution_count": 4,
   "metadata": {},
   "outputs": [
    {
     "data": {
      "text/html": [
       "<div>\n",
       "<style scoped>\n",
       "    .dataframe tbody tr th:only-of-type {\n",
       "        vertical-align: middle;\n",
       "    }\n",
       "\n",
       "    .dataframe tbody tr th {\n",
       "        vertical-align: top;\n",
       "    }\n",
       "\n",
       "    .dataframe thead th {\n",
       "        text-align: right;\n",
       "    }\n",
       "</style>\n",
       "<table border=\"1\" class=\"dataframe\">\n",
       "  <thead>\n",
       "    <tr style=\"text-align: right;\">\n",
       "      <th></th>\n",
       "      <th>What is your Name?</th>\n",
       "      <th>What is your Age?</th>\n",
       "      <th>What is your Gender?</th>\n",
       "      <th>What is your primary mode of transport?</th>\n",
       "      <th>How far do you travel daily (one way)? (in km)</th>\n",
       "      <th>How much time does it take for your commute (one way)? (in minutes)</th>\n",
       "      <th>How much do you spend on commuting per month? (in INR)</th>\n",
       "      <th>How satisfied are you with your daily commute? (1 = Very Dissatisfied, 5 = Very Satisfied)</th>\n",
       "    </tr>\n",
       "  </thead>\n",
       "  <tbody>\n",
       "    <tr>\n",
       "      <th>0</th>\n",
       "      <td>Vedant Sunil Patil</td>\n",
       "      <td>17</td>\n",
       "      <td>Male</td>\n",
       "      <td>Bus</td>\n",
       "      <td>20</td>\n",
       "      <td>120</td>\n",
       "      <td>800</td>\n",
       "      <td>3</td>\n",
       "    </tr>\n",
       "    <tr>\n",
       "      <th>1</th>\n",
       "      <td>VISHISHT PAL</td>\n",
       "      <td>17</td>\n",
       "      <td>Male</td>\n",
       "      <td>Bike/ Scoter (Petrol)</td>\n",
       "      <td>3</td>\n",
       "      <td>10</td>\n",
       "      <td>500</td>\n",
       "      <td>3</td>\n",
       "    </tr>\n",
       "    <tr>\n",
       "      <th>2</th>\n",
       "      <td>Ritika</td>\n",
       "      <td>18</td>\n",
       "      <td>Female</td>\n",
       "      <td>Bus</td>\n",
       "      <td>20km</td>\n",
       "      <td>1hr30mins</td>\n",
       "      <td>1500-2000rs</td>\n",
       "      <td>2</td>\n",
       "    </tr>\n",
       "    <tr>\n",
       "      <th>3</th>\n",
       "      <td>Saad Shaikh</td>\n",
       "      <td>18</td>\n",
       "      <td>Male</td>\n",
       "      <td>Bike/ Scoter (Petrol)</td>\n",
       "      <td>25 to 30</td>\n",
       "      <td>35 to 40 mins</td>\n",
       "      <td>600</td>\n",
       "      <td>3</td>\n",
       "    </tr>\n",
       "    <tr>\n",
       "      <th>4</th>\n",
       "      <td>Yash Dharao</td>\n",
       "      <td>19</td>\n",
       "      <td>Male</td>\n",
       "      <td>Bike/ Scoter (Petrol)</td>\n",
       "      <td>12km</td>\n",
       "      <td>25 minutes</td>\n",
       "      <td>2000</td>\n",
       "      <td>3</td>\n",
       "    </tr>\n",
       "  </tbody>\n",
       "</table>\n",
       "</div>"
      ],
      "text/plain": [
       "    What is your Name?       What is your Age?    What is your Gender?   \\\n",
       "0      Vedant Sunil Patil                      17                  Male   \n",
       "1            VISHISHT PAL                      17                  Male   \n",
       "2                  Ritika                      18                Female   \n",
       "3             Saad Shaikh                      18                  Male   \n",
       "4            Yash Dharao                       19                  Male   \n",
       "\n",
       "  What is your primary mode of transport?   \\\n",
       "0                                      Bus   \n",
       "1                    Bike/ Scoter (Petrol)   \n",
       "2                                      Bus   \n",
       "3                    Bike/ Scoter (Petrol)   \n",
       "4                    Bike/ Scoter (Petrol)   \n",
       "\n",
       "  How far do you travel daily (one way)? (in km)   \\\n",
       "0                                              20   \n",
       "1                                               3   \n",
       "2                                            20km   \n",
       "3                                        25 to 30   \n",
       "4                                            12km   \n",
       "\n",
       "    How much time does it take for your commute (one way)? (in minutes)  \\\n",
       "0                                                120                      \n",
       "1                                                 10                      \n",
       "2                                          1hr30mins                      \n",
       "3                                      35 to 40 mins                      \n",
       "4                                        25 minutes                       \n",
       "\n",
       "    How much do you spend on commuting per month? (in INR)  \\\n",
       "0                                                800         \n",
       "1                                                500         \n",
       "2                                        1500-2000rs         \n",
       "3                                                600         \n",
       "4                                               2000         \n",
       "\n",
       "   How satisfied are you with your daily commute? (1 = Very Dissatisfied, 5 = Very Satisfied)   \n",
       "0                                                  3                                            \n",
       "1                                                  3                                            \n",
       "2                                                  2                                            \n",
       "3                                                  3                                            \n",
       "4                                                  3                                            "
      ]
     },
     "execution_count": 4,
     "metadata": {},
     "output_type": "execute_result"
    }
   ],
   "source": [
    "df.head()"
   ]
  },
  {
   "cell_type": "markdown",
   "metadata": {},
   "source": [
    "## Labeling the data \n"
   ]
  },
  {
   "cell_type": "code",
   "execution_count": 5,
   "metadata": {},
   "outputs": [
    {
     "data": {
      "text/plain": [
       "Index(['  What is your Name?   ', '  What is your Age?   ',\n",
       "       'What is your Gender? ', 'What is your primary mode of transport? ',\n",
       "       'How far do you travel daily (one way)? (in km) ',\n",
       "       '  How much time does it take for your commute (one way)? (in minutes)',\n",
       "       '  How much do you spend on commuting per month? (in INR)',\n",
       "       'How satisfied are you with your daily commute? (1 = Very Dissatisfied, 5 = Very Satisfied) '],\n",
       "      dtype='object')"
      ]
     },
     "execution_count": 5,
     "metadata": {},
     "output_type": "execute_result"
    }
   ],
   "source": [
    "df.columns"
   ]
  },
  {
   "cell_type": "code",
   "execution_count": 6,
   "metadata": {},
   "outputs": [],
   "source": [
    "df.rename(columns={\"  What is your Name?   \":\"Name\",\"  What is your Age?   \":\"Age\",\"What is your Gender? \":\"Gender\",\"What is your primary mode of transport? \":\"Mode_of_transport\",\"How far do you travel daily (one way)? (in km) \":\"Distance(in_km)\",\"  How much time does it take for your commute (one way)? (in minutes)\":\"Time_taken(min)\",\"  How much do you spend on commuting per month? (in INR)\":\"Amount_spent_monthly\",\"How satisfied are you with your daily commute? (1 = Very Dissatisfied, 5 = Very Satisfied) \":\"Satisfaction\"},inplace=True)"
   ]
  },
  {
   "cell_type": "code",
   "execution_count": 7,
   "metadata": {},
   "outputs": [],
   "source": [
    "df.to_csv(\"Travel_and_Commuting_Preferences_2.csv\")"
   ]
  },
  {
   "cell_type": "code",
   "execution_count": 63,
   "metadata": {},
   "outputs": [],
   "source": [
    "df2=pd.read_csv(\"Travel_and_Commuting_Preferences_2.csv\")"
   ]
  },
  {
   "cell_type": "code",
   "execution_count": 64,
   "metadata": {},
   "outputs": [
    {
     "name": "stdout",
     "output_type": "stream",
     "text": [
      "<class 'pandas.core.frame.DataFrame'>\n",
      "RangeIndex: 77 entries, 0 to 76\n",
      "Data columns (total 9 columns):\n",
      " #   Column                Non-Null Count  Dtype \n",
      "---  ------                --------------  ----- \n",
      " 0   Unnamed: 0            77 non-null     int64 \n",
      " 1   Name                  77 non-null     object\n",
      " 2   Age                   77 non-null     int64 \n",
      " 3   Gender                77 non-null     object\n",
      " 4   Mode_of_transport     77 non-null     object\n",
      " 5   Distance(in_km)       77 non-null     object\n",
      " 6   Time_taken(min)       77 non-null     object\n",
      " 7   Amount_spent_monthly  77 non-null     object\n",
      " 8   Satisfaction          77 non-null     int64 \n",
      "dtypes: int64(3), object(6)\n",
      "memory usage: 5.5+ KB\n"
     ]
    }
   ],
   "source": [
    "df2.info()"
   ]
  },
  {
   "cell_type": "code",
   "execution_count": 65,
   "metadata": {},
   "outputs": [
    {
     "data": {
      "text/plain": [
       "([<matplotlib.patches.Wedge at 0x1f09cb2bc50>,\n",
       "  <matplotlib.patches.Wedge at 0x1f09cb4c050>,\n",
       "  <matplotlib.patches.Wedge at 0x1f09cb4c410>,\n",
       "  <matplotlib.patches.Wedge at 0x1f09cb4c7d0>,\n",
       "  <matplotlib.patches.Wedge at 0x1f09cb4cb90>,\n",
       "  <matplotlib.patches.Wedge at 0x1f09cb4cf50>,\n",
       "  <matplotlib.patches.Wedge at 0x1f09cb4d310>,\n",
       "  <matplotlib.patches.Wedge at 0x1f09cb4d6d0>,\n",
       "  <matplotlib.patches.Wedge at 0x1f09cb4da90>,\n",
       "  <matplotlib.patches.Wedge at 0x1f09cb4de50>,\n",
       "  <matplotlib.patches.Wedge at 0x1f09cb4e210>,\n",
       "  <matplotlib.patches.Wedge at 0x1f09cb4e710>],\n",
       " [Text(0.6858387239483094, 0.860014677045081, '17'),\n",
       "  Text(-0.8458457150554024, 0.7032389539284746, '18'),\n",
       "  Text(-0.9910658533096702, -0.4772719082489304, '19'),\n",
       "  Text(-0.28831213729956323, -1.0615442108013016, '5'),\n",
       "  Text(0.3738779417483149, -1.0345120998200281, '27'),\n",
       "  Text(0.785710504661066, -0.7698434924484673, '14'),\n",
       "  Text(0.9707736320630895, -0.5172992898613311, '21'),\n",
       "  Text(1.0266701317731486, -0.3949030773809008, '28'),\n",
       "  Text(1.0554423562837163, -0.30990552199384463, '29'),\n",
       "  Text(1.0771906144018017, -0.2228460909342344, '15'),\n",
       "  Text(1.0917703637054192, -0.13430365942347472, '20'),\n",
       "  Text(1.099084578598543, -0.04486746133740271, '22')],\n",
       " [Text(0.3740938494263505, 0.46909891475186233, '28.57%'),\n",
       "  Text(-0.46137039003021946, 0.38358488396098606, '20.78%'),\n",
       "  Text(-0.5405813745325473, -0.2603301317721438, '15.58%'),\n",
       "  Text(-0.15726116579976177, -0.579024114982528, '11.69%'),\n",
       "  Text(0.2039334227718081, -0.5642793271745608, '7.79%'),\n",
       "  Text(0.4285693661787632, -0.41991463224461845, '6.49%'),\n",
       "  Text(0.5295128902162306, -0.28216324901527146, '2.60%'),\n",
       "  Text(0.560001890058081, -0.21540167857140044, '1.30%'),\n",
       "  Text(0.5756958307002088, -0.16903937563300617, '1.30%'),\n",
       "  Text(0.5875585169464372, -0.12155241323685512, '1.30%'),\n",
       "  Text(0.5955111074756831, -0.07325654150371347, '1.30%'),\n",
       "  Text(0.5995006792355688, -0.024473160729492384, '1.30%')])"
      ]
     },
     "execution_count": 65,
     "metadata": {},
     "output_type": "execute_result"
    },
    {
     "data": {
      "image/png": "[encoded data removed]",
      "text/plain": [
       "<Figure size 700x700 with 1 Axes>"
      ]
     },
     "metadata": {},
     "output_type": "display_data"
    }
   ],
   "source": [
    "plt.figure(figsize=(7,7))\n",
    "plt.title(\"Age\")\n",
    "plt.pie(x=df2[\"Age\"].value_counts(),labels=df['Age'].unique(),autopct=\"%2.2f%%\")"
   ]
  },
  {
   "cell_type": "code",
   "execution_count": 66,
   "metadata": {},
   "outputs": [
    {
     "data": {
      "text/plain": [
       "([<matplotlib.patches.Wedge at 0x1f09cb9de50>,\n",
       "  <matplotlib.patches.Wedge at 0x1f09cb9e210>],\n",
       " [Text(-0.4157634333785677, 1.018401083790304, 'Male'),\n",
       "  Text(0.4157632796042775, -1.018401146568824, 'Female')],\n",
       " [Text(-0.22678005457012781, 0.5554915002492565, '62.34%'),\n",
       "  Text(0.22677997069324224, -0.5554915344920858, '37.66%')])"
      ]
     },
     "execution_count": 66,
     "metadata": {},
     "output_type": "execute_result"
    },
    {
     "data": {
      "image/png": "[encoded data removed]",
      "text/plain": [
       "<Figure size 640x480 with 1 Axes>"
      ]
     },
     "metadata": {},
     "output_type": "display_data"
    }
   ],
   "source": [
    "plt.title(\"Gender\")\n",
    "plt.pie(x=df2['Gender'].value_counts(),labels=df2['Gender'].unique(),autopct=\"%2.2f%%\")"
   ]
  },
  {
   "cell_type": "markdown",
   "metadata": {},
   "source": [
    "## Data cleaning "
   ]
  },
  {
   "cell_type": "code",
   "execution_count": 67,
   "metadata": {},
   "outputs": [
    {
     "data": {
      "text/plain": [
       "array(['20', '3', '20km', '25 to 30', '12km', '1.2', '5km', '30', '2km',\n",
       "       '5 Km', '16-18km', '17', '10', '14', '11 km', '0.57', '3 km',\n",
       "       '4-5km', '16 km', '5', '2.5 km', '9', '1km', '1', '28km', '8km',\n",
       "       '14km', '30km', '19', '25km', '19km', '27km', '22', '29km', '23km',\n",
       "       '11km', '26km', '4km', '15', '17km', '7km', '22km', '24km', '21km',\n",
       "       '27', '13km', '9km', '23', '25'], dtype=object)"
      ]
     },
     "execution_count": 67,
     "metadata": {},
     "output_type": "execute_result"
    }
   ],
   "source": [
    "df2['Distance(in_km)'].unique()"
   ]
  },
  {
   "cell_type": "code",
   "execution_count": 68,
   "metadata": {},
   "outputs": [
    {
     "data": {
      "text/plain": [
       "array(['800', '500', '1500-2000rs', '600', '2000', '0', '15rs', '1500',\n",
       "       '20', '1600', '1000', '1000/-', \"Don't know\", '400', '2700',\n",
       "       '₹ 10,000/- (approx)', '1800', '700₹', '900', 'Nothing', '2979',\n",
       "       '4764', '2522-3614rs', '2258', '3751', '1078', '3977', '4590',\n",
       "       '2140', '1580', '2853', '713', '881', '1616', '2108-3579rs',\n",
       "       '2804', '4377', '3200', '2589', '4920', '2594', '1945', '851',\n",
       "       '1998-3566rs', '2752', '2921', '4338', '1777', '3656', '3973',\n",
       "       '2282', '1464', '2020', '3863', '4804', '2230-3302rs',\n",
       "       '1371-4182rs', '2965-4856rs', '2169', '1404-3415rs', '1937', '839',\n",
       "       '4663', '1065', '4376', '1068', '1265-4366rs', '1712-3031rs',\n",
       "       '3738', '3592'], dtype=object)"
      ]
     },
     "execution_count": 68,
     "metadata": {},
     "output_type": "execute_result"
    }
   ],
   "source": [
    "df2['Amount_spent_monthly'].unique()"
   ]
  },
  {
   "cell_type": "code",
   "execution_count": 69,
   "metadata": {},
   "outputs": [
    {
     "data": {
      "text/plain": [
       "Time_taken(min)\n",
       "30 min        2\n",
       "20            2\n",
       "15            2\n",
       "30            2\n",
       "120           1\n",
       "             ..\n",
       "52 minutes    1\n",
       "37 minutes    1\n",
       "1hr 26mins    1\n",
       "58 minutes    1\n",
       "16 minutes    1\n",
       "Name: count, Length: 73, dtype: int64"
      ]
     },
     "execution_count": 69,
     "metadata": {},
     "output_type": "execute_result"
    }
   ],
   "source": [
    "df2['Time_taken(min)'].value_counts()"
   ]
  },
  {
   "cell_type": "code",
   "execution_count": 70,
   "metadata": {},
   "outputs": [
    {
     "data": {
      "text/plain": [
       "array(['120', '10', '1hr30mins', '35 to 40 mins', '25 minutes ', '30 min',\n",
       "       '20 minutes ', '60', '80', '20 min', '60 mins', '1hr', '60min',\n",
       "       '1.5 hrs', '25', '90', '30', '20', '15', '45 mins', '60 minutes ',\n",
       "       '15 minutes ', '10mins', '2hr 26mins', '1hr 22mins', '44 minutes',\n",
       "       '18 minutes', '10 minutes', '42 minutes', '2hr 27mins',\n",
       "       '2hr 46mins', '23 minutes', '2hr 43mins', '1hr 48mins',\n",
       "       '39 minutes', '2hr 51mins', '75 minutes', '12 minutes',\n",
       "       '1hr 17mins', '1hr 59mins', '1hr 5mins', '61 minutes',\n",
       "       '77 minutes', '48 minutes', '2hr 20mins', '1hr 29mins',\n",
       "       '87 minutes', '11 minutes', '76 minutes', '22 minutes',\n",
       "       '38 minutes', '82 minutes', '1hr 33mins', '2hr 32mins',\n",
       "       '43 minutes', '57 minutes', '24 minutes', '1hr 12mins',\n",
       "       '1hr 46mins', '63 minutes', '2hr 23mins', '26 minutes',\n",
       "       '1hr 55mins', '36 minutes', '1hr 50mins', '1hr 58mins',\n",
       "       '2hr 15mins', '2hr 57mins', '52 minutes', '37 minutes',\n",
       "       '1hr 26mins', '58 minutes', '16 minutes'], dtype=object)"
      ]
     },
     "execution_count": 70,
     "metadata": {},
     "output_type": "execute_result"
    }
   ],
   "source": [
    "df2['Time_taken(min)'].unique()"
   ]
  },
  {
   "cell_type": "code",
   "execution_count": 71,
   "metadata": {},
   "outputs": [
    {
     "data": {
      "text/plain": [
       "Index(['Unnamed: 0', 'Name', 'Age', 'Gender', 'Mode_of_transport',\n",
       "       'Distance(in_km)', 'Time_taken(min)', 'Amount_spent_monthly',\n",
       "       'Satisfaction'],\n",
       "      dtype='object')"
      ]
     },
     "execution_count": 71,
     "metadata": {},
     "output_type": "execute_result"
    }
   ],
   "source": [
    "df2.columns"
   ]
  },
  {
   "cell_type": "code",
   "execution_count": 72,
   "metadata": {},
   "outputs": [],
   "source": [
    "df2.drop(columns=['Unnamed: 0'],inplace=True)"
   ]
  },
  {
   "cell_type": "code",
   "execution_count": 91,
   "metadata": {},
   "outputs": [],
   "source": [
    "df3=df2[df2['Time_taken(min)'].str.contains(\"hr\")]"
   ]
  },
  {
   "cell_type": "code",
   "execution_count": 74,
   "metadata": {},
   "outputs": [
    {
     "data": {
      "text/html": [
       "<div>\n",
       "<style scoped>\n",
       "    .dataframe tbody tr th:only-of-type {\n",
       "        vertical-align: middle;\n",
       "    }\n",
       "\n",
       "    .dataframe tbody tr th {\n",
       "        vertical-align: top;\n",
       "    }\n",
       "\n",
       "    .dataframe thead th {\n",
       "        text-align: right;\n",
       "    }\n",
       "</style>\n",
       "<table border=\"1\" class=\"dataframe\">\n",
       "  <thead>\n",
       "    <tr style=\"text-align: right;\">\n",
       "      <th></th>\n",
       "      <th>Name</th>\n",
       "      <th>Age</th>\n",
       "      <th>Gender</th>\n",
       "      <th>Mode_of_transport</th>\n",
       "      <th>Distance(in_km)</th>\n",
       "      <th>Time_taken(min)</th>\n",
       "      <th>Amount_spent_monthly</th>\n",
       "      <th>Satisfaction</th>\n",
       "    </tr>\n",
       "  </thead>\n",
       "  <tbody>\n",
       "    <tr>\n",
       "      <th>2</th>\n",
       "      <td>Ritika</td>\n",
       "      <td>18</td>\n",
       "      <td>Female</td>\n",
       "      <td>Bus</td>\n",
       "      <td>20km</td>\n",
       "      <td>1hr30mins</td>\n",
       "      <td>1500-2000rs</td>\n",
       "      <td>2</td>\n",
       "    </tr>\n",
       "    <tr>\n",
       "      <th>11</th>\n",
       "      <td>Unmesh Singnurkar</td>\n",
       "      <td>19</td>\n",
       "      <td>Male</td>\n",
       "      <td>Bike/ Scoter (Petrol)</td>\n",
       "      <td>16-18km</td>\n",
       "      <td>1hr</td>\n",
       "      <td>2000</td>\n",
       "      <td>5</td>\n",
       "    </tr>\n",
       "    <tr>\n",
       "      <th>13</th>\n",
       "      <td>Ayush</td>\n",
       "      <td>18</td>\n",
       "      <td>Male</td>\n",
       "      <td>Bike/ Scoter (Petrol)</td>\n",
       "      <td>17</td>\n",
       "      <td>1.5 hrs</td>\n",
       "      <td>1600</td>\n",
       "      <td>3</td>\n",
       "    </tr>\n",
       "    <tr>\n",
       "      <th>27</th>\n",
       "      <td>Varun Malhotra</td>\n",
       "      <td>20</td>\n",
       "      <td>Female</td>\n",
       "      <td>Bus</td>\n",
       "      <td>28km</td>\n",
       "      <td>2hr 26mins</td>\n",
       "      <td>2979</td>\n",
       "      <td>1</td>\n",
       "    </tr>\n",
       "    <tr>\n",
       "      <th>28</th>\n",
       "      <td>Kartik Nayak</td>\n",
       "      <td>20</td>\n",
       "      <td>Male</td>\n",
       "      <td>Bus</td>\n",
       "      <td>8km</td>\n",
       "      <td>1hr 22mins</td>\n",
       "      <td>4764</td>\n",
       "      <td>3</td>\n",
       "    </tr>\n",
       "  </tbody>\n",
       "</table>\n",
       "</div>"
      ],
      "text/plain": [
       "                  Name  Age  Gender      Mode_of_transport Distance(in_km)  \\\n",
       "2               Ritika   18  Female                    Bus            20km   \n",
       "11  Unmesh Singnurkar    19    Male  Bike/ Scoter (Petrol)         16-18km   \n",
       "13               Ayush   18    Male  Bike/ Scoter (Petrol)              17   \n",
       "27      Varun Malhotra   20  Female                    Bus            28km   \n",
       "28        Kartik Nayak   20    Male                    Bus             8km   \n",
       "\n",
       "   Time_taken(min) Amount_spent_monthly  Satisfaction  \n",
       "2        1hr30mins          1500-2000rs             2  \n",
       "11             1hr                 2000             5  \n",
       "13         1.5 hrs                 1600             3  \n",
       "27      2hr 26mins                 2979             1  \n",
       "28      1hr 22mins                 4764             3  "
      ]
     },
     "execution_count": 74,
     "metadata": {},
     "output_type": "execute_result"
    }
   ],
   "source": [
    "df3.head()"
   ]
  },
  {
   "cell_type": "code",
   "execution_count": 95,
   "metadata": {},
   "outputs": [],
   "source": [
    "Time=list(df3['Time_taken(min)'].str.split(\"hr\"))"
   ]
  },
  {
   "cell_type": "code",
   "execution_count": 96,
   "metadata": {},
   "outputs": [
    {
     "data": {
      "text/plain": [
       "[['1', '30'],\n",
       " ['1.5 ', ''],\n",
       " ['2', ' 26'],\n",
       " ['1', ' 22'],\n",
       " ['2', ' 27'],\n",
       " ['2', ' 46'],\n",
       " ['2', ' 43'],\n",
       " ['1', ' 48'],\n",
       " ['2', ' 51'],\n",
       " ['1', ' 17'],\n",
       " ['1', ' 59'],\n",
       " ['1', ' 5'],\n",
       " ['2', ' 20'],\n",
       " ['1', ' 29'],\n",
       " ['1', ' 33'],\n",
       " ['2', ' 32'],\n",
       " ['1', ' 12'],\n",
       " ['1', ' 46'],\n",
       " ['2', ' 23'],\n",
       " ['1', ' 55'],\n",
       " ['1', ' 50'],\n",
       " ['1', ' 58'],\n",
       " ['2', ' 15'],\n",
       " ['2', ' 57'],\n",
       " ['1', ' 26']]"
      ]
     },
     "execution_count": 96,
     "metadata": {},
     "output_type": "execute_result"
    }
   ],
   "source": [
    "Time"
   ]
  },
  {
   "cell_type": "code",
   "execution_count": null,
   "metadata": {},
   "outputs": [
    {
     "name": "stderr",
     "output_type": "stream",
     "text": [
      "C:\\Users\\Admin47\\AppData\\Local\\Temp\\ipykernel_4392\\3103681027.py:7: SettingWithCopyWarning: \n",
      "A value is trying to be set on a copy of a slice from a DataFrame.\n",
      "Try using .loc[row_indexer,col_indexer] = value instead\n",
      "\n",
      "See the caveats in the documentation: https://pandas.pydata.org/pandas-docs/stable/user_guide/indexing.html#returning-a-view-versus-a-copy\n",
      "  df3[\"Time_taken(min)\"]=pd.Series(data=int_time)\n"
     ]
    }
   ],
   "source": [
    "int_time=[]\n",
    "for i,n in Time :\n",
    "    minutes=float(i.strip())*60\n",
    "    if n!=\"\":\n",
    "        minutes=float(n.strip())\n",
    "    int_time.append(minutes)\n"
   ]
  },
  {
   "cell_type": "code",
   "execution_count": 101,
   "metadata": {},
   "outputs": [
    {
     "name": "stdout",
     "output_type": "stream",
     "text": [
      "[30.0, 90.0, 26.0, 22.0, 27.0, 46.0, 43.0, 48.0, 51.0, 17.0, 59.0, 5.0, 20.0, 29.0, 33.0, 32.0, 12.0, 46.0, 23.0, 55.0, 50.0, 58.0, 15.0, 57.0, 26.0]\n"
     ]
    }
   ],
   "source": [
    "print(int_time)"
   ]
  },
  {
   "cell_type": "code",
   "execution_count": 103,
   "metadata": {},
   "outputs": [
    {
     "name": "stderr",
     "output_type": "stream",
     "text": [
      "C:\\Users\\Admin47\\AppData\\Local\\Temp\\ipykernel_4392\\1411621421.py:1: SettingWithCopyWarning: \n",
      "A value is trying to be set on a copy of a slice from a DataFrame.\n",
      "Try using .loc[row_indexer,col_indexer] = value instead\n",
      "\n",
      "See the caveats in the documentation: https://pandas.pydata.org/pandas-docs/stable/user_guide/indexing.html#returning-a-view-versus-a-copy\n",
      "  df3[\"Time_taken(min)\"]=pd.Series(data=int_time)\n"
     ]
    }
   ],
   "source": [
    "df3[\"Time_taken(min)\"]=pd.Series(data=int_time)"
   ]
  },
  {
   "cell_type": "code",
   "execution_count": 106,
   "metadata": {},
   "outputs": [],
   "source": [
    "df4=df2[df2['Time_taken(min)'].str.contains(\"hr\")]"
   ]
  },
  {
   "cell_type": "code",
   "execution_count": 111,
   "metadata": {},
   "outputs": [
    {
     "name": "stderr",
     "output_type": "stream",
     "text": [
      "C:\\Users\\Admin47\\AppData\\Local\\Temp\\ipykernel_4392\\3693382036.py:1: SettingWithCopyWarning: \n",
      "A value is trying to be set on a copy of a slice from a DataFrame.\n",
      "Try using .loc[row_indexer,col_indexer] = value instead\n",
      "\n",
      "See the caveats in the documentation: https://pandas.pydata.org/pandas-docs/stable/user_guide/indexing.html#returning-a-view-versus-a-copy\n",
      "  df4['Time_taken(min)']=int_time\n"
     ]
    }
   ],
   "source": [
    "df4['Time_taken(min)']=int_time"
   ]
  },
  {
   "cell_type": "code",
   "execution_count": 112,
   "metadata": {},
   "outputs": [
    {
     "data": {
      "text/plain": [
       "2     30.0\n",
       "13    90.0\n",
       "27    26.0\n",
       "28    22.0\n",
       "33    27.0\n",
       "34    46.0\n",
       "36    43.0\n",
       "37    48.0\n",
       "39    51.0\n",
       "42    17.0\n",
       "43    59.0\n",
       "44     5.0\n",
       "48    20.0\n",
       "49    29.0\n",
       "56    33.0\n",
       "57    32.0\n",
       "61    12.0\n",
       "62    46.0\n",
       "64    23.0\n",
       "66    55.0\n",
       "68    50.0\n",
       "69    58.0\n",
       "70    15.0\n",
       "71    57.0\n",
       "74    26.0\n",
       "Name: Time_taken(min), dtype: float64"
      ]
     },
     "execution_count": 112,
     "metadata": {},
     "output_type": "execute_result"
    }
   ],
   "source": [
    "df4['Time_taken(min)']"
   ]
  },
  {
   "cell_type": "code",
   "execution_count": null,
   "metadata": {},
   "outputs": [
    {
     "data": {
      "text/plain": [
       "(25, 8)"
      ]
     },
     "execution_count": 50,
     "metadata": {},
     "output_type": "execute_result"
    }
   ],
   "source": [
    "df3.shape"
   ]
  },
  {
   "cell_type": "code",
   "execution_count": 113,
   "metadata": {},
   "outputs": [
    {
     "name": "stdout",
     "output_type": "stream",
     "text": [
      "<class 'pandas.core.frame.DataFrame'>\n",
      "Index: 74 entries, 0 to 76\n",
      "Data columns (total 8 columns):\n",
      " #   Column                Non-Null Count  Dtype  \n",
      "---  ------                --------------  -----  \n",
      " 0   Name                  74 non-null     object \n",
      " 1   Age                   74 non-null     int64  \n",
      " 2   Gender                74 non-null     object \n",
      " 3   Mode_of_transport     74 non-null     object \n",
      " 4   Distance(in_km)       74 non-null     float64\n",
      " 5   Time_taken(min)       74 non-null     object \n",
      " 6   Amount_spent_monthly  74 non-null     object \n",
      " 7   Satisfaction          74 non-null     int64  \n",
      "dtypes: float64(1), int64(2), object(5)\n",
      "memory usage: 5.2+ KB\n"
     ]
    }
   ],
   "source": [
    "df2.info()"
   ]
  },
  {
   "cell_type": "code",
   "execution_count": 114,
   "metadata": {},
   "outputs": [
    {
     "name": "stdout",
     "output_type": "stream",
     "text": [
      "<class 'pandas.core.frame.DataFrame'>\n",
      "Index: 25 entries, 2 to 74\n",
      "Data columns (total 8 columns):\n",
      " #   Column                Non-Null Count  Dtype  \n",
      "---  ------                --------------  -----  \n",
      " 0   Name                  25 non-null     object \n",
      " 1   Age                   25 non-null     int64  \n",
      " 2   Gender                25 non-null     object \n",
      " 3   Mode_of_transport     25 non-null     object \n",
      " 4   Distance(in_km)       25 non-null     float64\n",
      " 5   Time_taken(min)       25 non-null     float64\n",
      " 6   Amount_spent_monthly  25 non-null     object \n",
      " 7   Satisfaction          25 non-null     int64  \n",
      "dtypes: float64(2), int64(2), object(4)\n",
      "memory usage: 1.8+ KB\n"
     ]
    }
   ],
   "source": [
    "df4.info()"
   ]
  },
  {
   "cell_type": "code",
   "execution_count": 116,
   "metadata": {},
   "outputs": [],
   "source": [
    "df2.drop(df2[df2['Time_taken(min)'].str.contains(\"hr\")].index,inplace= True)"
   ]
  },
  {
   "cell_type": "code",
   "execution_count": 93,
   "metadata": {},
   "outputs": [
    {
     "data": {
      "text/plain": [
       "array(['1hr30', '1.5 hr', '2hr 26', '1hr 22', '2hr 27', '2hr 46',\n",
       "       '2hr 43', '1hr 48', '2hr 51', '1hr 17', '1hr 59', '1hr 5',\n",
       "       '2hr 20', '1hr 29', '1hr 33', '2hr 32', '1hr 12', '1hr 46',\n",
       "       '2hr 23', '1hr 55', '1hr 50', '1hr 58', '2hr 15', '2hr 57',\n",
       "       '1hr 26'], dtype=object)"
      ]
     },
     "execution_count": 93,
     "metadata": {},
     "output_type": "execute_result"
    }
   ],
   "source": [
    "df3['Time_taken(min)'].unique()"
   ]
  },
  {
   "cell_type": "code",
   "execution_count": null,
   "metadata": {},
   "outputs": [
    {
     "name": "stdout",
     "output_type": "stream",
     "text": [
      "<class 'pandas.core.frame.DataFrame'>\n",
      "Index: 25 entries, 2 to 74\n",
      "Data columns (total 8 columns):\n",
      " #   Column                Non-Null Count  Dtype  \n",
      "---  ------                --------------  -----  \n",
      " 0   Name                  25 non-null     object \n",
      " 1   Age                   25 non-null     int64  \n",
      " 2   Gender                25 non-null     object \n",
      " 3   Mode_of_transport     25 non-null     object \n",
      " 4   Distance(in_km)       25 non-null     float64\n",
      " 5   Time_taken(min)       25 non-null     object \n",
      " 6   Amount_spent_monthly  25 non-null     object \n",
      " 7   Satisfaction          25 non-null     int64  \n",
      "dtypes: float64(1), int64(2), object(5)\n",
      "memory usage: 1.8+ KB\n"
     ]
    }
   ],
   "source": [
    "df3.info()"
   ]
  },
  {
   "cell_type": "code",
   "execution_count": 117,
   "metadata": {},
   "outputs": [],
   "source": [
    "df2['Time_taken(min)']=df2['Time_taken(min)'].astype(\"float\")"
   ]
  },
  {
   "cell_type": "code",
   "execution_count": 150,
   "metadata": {},
   "outputs": [
    {
     "ename": "AttributeError",
     "evalue": "Can only use .str accessor with string values!",
     "output_type": "error",
     "traceback": [
      "\u001b[31m---------------------------------------------------------------------------\u001b[39m",
      "\u001b[31mAttributeError\u001b[39m                            Traceback (most recent call last)",
      "\u001b[36mCell\u001b[39m\u001b[36m \u001b[39m\u001b[32mIn[150]\u001b[39m\u001b[32m, line 1\u001b[39m\n\u001b[32m----> \u001b[39m\u001b[32m1\u001b[39m df2[\u001b[33m\"\u001b[39m\u001b[33mTime_taken(min)\u001b[39m\u001b[33m\"\u001b[39m]=\u001b[43mdf2\u001b[49m\u001b[43m[\u001b[49m\u001b[33;43m'\u001b[39;49m\u001b[33;43mTime_taken(min)\u001b[39;49m\u001b[33;43m'\u001b[39;49m\u001b[43m]\u001b[49m\u001b[43m.\u001b[49m\u001b[43mstr\u001b[49m.replace(\u001b[33m\"\u001b[39m\u001b[33mmin\u001b[39m\u001b[33m\"\u001b[39m,\u001b[33m\"\u001b[39m\u001b[33m\"\u001b[39m)\n\u001b[32m      2\u001b[39m df2[\u001b[33m\"\u001b[39m\u001b[33mTime_taken(min)\u001b[39m\u001b[33m\"\u001b[39m]=df2[\u001b[33m'\u001b[39m\u001b[33mTime_taken(min)\u001b[39m\u001b[33m'\u001b[39m].str.replace(\u001b[33m\"\u001b[39m\u001b[33mminutes\u001b[39m\u001b[33m\"\u001b[39m,\u001b[33m\"\u001b[39m\u001b[33m\"\u001b[39m)\n\u001b[32m      3\u001b[39m df2[\u001b[33m\"\u001b[39m\u001b[33mTime_taken(min)\u001b[39m\u001b[33m\"\u001b[39m]=df2[\u001b[33m'\u001b[39m\u001b[33mTime_taken(min)\u001b[39m\u001b[33m'\u001b[39m].str.replace(\u001b[33m\"\u001b[39m\u001b[33mmins\u001b[39m\u001b[33m\"\u001b[39m,\u001b[33m\"\u001b[39m\u001b[33m\"\u001b[39m)\n",
      "\u001b[36mFile \u001b[39m\u001b[32mc:\\Program Files\\Python313\\Lib\\site-packages\\pandas\\core\\generic.py:6299\u001b[39m, in \u001b[36mNDFrame.__getattr__\u001b[39m\u001b[34m(self, name)\u001b[39m\n\u001b[32m   6292\u001b[39m \u001b[38;5;28;01mif\u001b[39;00m (\n\u001b[32m   6293\u001b[39m     name \u001b[38;5;129;01mnot\u001b[39;00m \u001b[38;5;129;01min\u001b[39;00m \u001b[38;5;28mself\u001b[39m._internal_names_set\n\u001b[32m   6294\u001b[39m     \u001b[38;5;129;01mand\u001b[39;00m name \u001b[38;5;129;01mnot\u001b[39;00m \u001b[38;5;129;01min\u001b[39;00m \u001b[38;5;28mself\u001b[39m._metadata\n\u001b[32m   6295\u001b[39m     \u001b[38;5;129;01mand\u001b[39;00m name \u001b[38;5;129;01mnot\u001b[39;00m \u001b[38;5;129;01min\u001b[39;00m \u001b[38;5;28mself\u001b[39m._accessors\n\u001b[32m   6296\u001b[39m     \u001b[38;5;129;01mand\u001b[39;00m \u001b[38;5;28mself\u001b[39m._info_axis._can_hold_identifiers_and_holds_name(name)\n\u001b[32m   6297\u001b[39m ):\n\u001b[32m   6298\u001b[39m     \u001b[38;5;28;01mreturn\u001b[39;00m \u001b[38;5;28mself\u001b[39m[name]\n\u001b[32m-> \u001b[39m\u001b[32m6299\u001b[39m \u001b[38;5;28;01mreturn\u001b[39;00m \u001b[38;5;28;43mobject\u001b[39;49m\u001b[43m.\u001b[49m\u001b[34;43m__getattribute__\u001b[39;49m\u001b[43m(\u001b[49m\u001b[38;5;28;43mself\u001b[39;49m\u001b[43m,\u001b[49m\u001b[43m \u001b[49m\u001b[43mname\u001b[49m\u001b[43m)\u001b[49m\n",
      "\u001b[36mFile \u001b[39m\u001b[32mc:\\Program Files\\Python313\\Lib\\site-packages\\pandas\\core\\accessor.py:224\u001b[39m, in \u001b[36mCachedAccessor.__get__\u001b[39m\u001b[34m(self, obj, cls)\u001b[39m\n\u001b[32m    221\u001b[39m \u001b[38;5;28;01mif\u001b[39;00m obj \u001b[38;5;129;01mis\u001b[39;00m \u001b[38;5;28;01mNone\u001b[39;00m:\n\u001b[32m    222\u001b[39m     \u001b[38;5;66;03m# we're accessing the attribute of the class, i.e., Dataset.geo\u001b[39;00m\n\u001b[32m    223\u001b[39m     \u001b[38;5;28;01mreturn\u001b[39;00m \u001b[38;5;28mself\u001b[39m._accessor\n\u001b[32m--> \u001b[39m\u001b[32m224\u001b[39m accessor_obj = \u001b[38;5;28;43mself\u001b[39;49m\u001b[43m.\u001b[49m\u001b[43m_accessor\u001b[49m\u001b[43m(\u001b[49m\u001b[43mobj\u001b[49m\u001b[43m)\u001b[49m\n\u001b[32m    225\u001b[39m \u001b[38;5;66;03m# Replace the property with the accessor object. Inspired by:\u001b[39;00m\n\u001b[32m    226\u001b[39m \u001b[38;5;66;03m# https://www.pydanny.com/cached-property.html\u001b[39;00m\n\u001b[32m    227\u001b[39m \u001b[38;5;66;03m# We need to use object.__setattr__ because we overwrite __setattr__ on\u001b[39;00m\n\u001b[32m    228\u001b[39m \u001b[38;5;66;03m# NDFrame\u001b[39;00m\n\u001b[32m    229\u001b[39m \u001b[38;5;28mobject\u001b[39m.\u001b[34m__setattr__\u001b[39m(obj, \u001b[38;5;28mself\u001b[39m._name, accessor_obj)\n",
      "\u001b[36mFile \u001b[39m\u001b[32mc:\\Program Files\\Python313\\Lib\\site-packages\\pandas\\core\\strings\\accessor.py:191\u001b[39m, in \u001b[36mStringMethods.__init__\u001b[39m\u001b[34m(self, data)\u001b[39m\n\u001b[32m    188\u001b[39m \u001b[38;5;28;01mdef\u001b[39;00m \u001b[34m__init__\u001b[39m(\u001b[38;5;28mself\u001b[39m, data) -> \u001b[38;5;28;01mNone\u001b[39;00m:\n\u001b[32m    189\u001b[39m     \u001b[38;5;28;01mfrom\u001b[39;00m \u001b[34;01mpandas\u001b[39;00m\u001b[34;01m.\u001b[39;00m\u001b[34;01mcore\u001b[39;00m\u001b[34;01m.\u001b[39;00m\u001b[34;01marrays\u001b[39;00m\u001b[34;01m.\u001b[39;00m\u001b[34;01mstring_\u001b[39;00m \u001b[38;5;28;01mimport\u001b[39;00m StringDtype\n\u001b[32m--> \u001b[39m\u001b[32m191\u001b[39m     \u001b[38;5;28mself\u001b[39m._inferred_dtype = \u001b[38;5;28;43mself\u001b[39;49m\u001b[43m.\u001b[49m\u001b[43m_validate\u001b[49m\u001b[43m(\u001b[49m\u001b[43mdata\u001b[49m\u001b[43m)\u001b[49m\n\u001b[32m    192\u001b[39m     \u001b[38;5;28mself\u001b[39m._is_categorical = \u001b[38;5;28misinstance\u001b[39m(data.dtype, CategoricalDtype)\n\u001b[32m    193\u001b[39m     \u001b[38;5;28mself\u001b[39m._is_string = \u001b[38;5;28misinstance\u001b[39m(data.dtype, StringDtype)\n",
      "\u001b[36mFile \u001b[39m\u001b[32mc:\\Program Files\\Python313\\Lib\\site-packages\\pandas\\core\\strings\\accessor.py:245\u001b[39m, in \u001b[36mStringMethods._validate\u001b[39m\u001b[34m(data)\u001b[39m\n\u001b[32m    242\u001b[39m inferred_dtype = lib.infer_dtype(values, skipna=\u001b[38;5;28;01mTrue\u001b[39;00m)\n\u001b[32m    244\u001b[39m \u001b[38;5;28;01mif\u001b[39;00m inferred_dtype \u001b[38;5;129;01mnot\u001b[39;00m \u001b[38;5;129;01min\u001b[39;00m allowed_types:\n\u001b[32m--> \u001b[39m\u001b[32m245\u001b[39m     \u001b[38;5;28;01mraise\u001b[39;00m \u001b[38;5;167;01mAttributeError\u001b[39;00m(\u001b[33m\"\u001b[39m\u001b[33mCan only use .str accessor with string values!\u001b[39m\u001b[33m\"\u001b[39m)\n\u001b[32m    246\u001b[39m \u001b[38;5;28;01mreturn\u001b[39;00m inferred_dtype\n",
      "\u001b[31mAttributeError\u001b[39m: Can only use .str accessor with string values!"
     ]
    }
   ],
   "source": [
    "df2[\"Time_taken(min)\"]=df2['Time_taken(min)'].str.replace(\"min\",\"\")\n",
    "df2[\"Time_taken(min)\"]=df2['Time_taken(min)'].str.replace(\"minutes\",\"\")\n",
    "df2[\"Time_taken(min)\"]=df2['Time_taken(min)'].str.replace(\"mins\",\"\")\n",
    "df2[\"Time_taken(min)\"]=df2['Time_taken(min)'].str.replace(\"utes\",\"\")\n",
    "df2[\"Time_taken(min)\"]=df2['Time_taken(min)'].str.replace(\"s\",\"\")"
   ]
  },
  {
   "cell_type": "code",
   "execution_count": 78,
   "metadata": {},
   "outputs": [],
   "source": [
    "df2[\"Distance(in_km)\"]=df2['Distance(in_km)'].str.replace(\"km\",\"\")\n",
    "df2[\"Distance(in_km)\"]=df2['Distance(in_km)'].str.replace(\"Km\",\"\")\n",
    "df2[\"Distance(in_km)\"]=df2['Distance(in_km)'].str.replace(\" \",\"\")"
   ]
  },
  {
   "cell_type": "code",
   "execution_count": 79,
   "metadata": {},
   "outputs": [
    {
     "data": {
      "text/plain": [
       "array(['20', '3', '25to30', '12', '1.2', '5', '30', '2', '16-18', '17',\n",
       "       '10', '14', '11', '0.57', '4-5', '16', '2.5', '9', '1', '28', '8',\n",
       "       '19', '25', '27', '22', '29', '23', '26', '4', '15', '7', '24',\n",
       "       '21', '13'], dtype=object)"
      ]
     },
     "execution_count": 79,
     "metadata": {},
     "output_type": "execute_result"
    }
   ],
   "source": [
    "df2['Distance(in_km)'].unique()"
   ]
  },
  {
   "cell_type": "code",
   "execution_count": 80,
   "metadata": {},
   "outputs": [
    {
     "data": {
      "text/html": [
       "<div>\n",
       "<style scoped>\n",
       "    .dataframe tbody tr th:only-of-type {\n",
       "        vertical-align: middle;\n",
       "    }\n",
       "\n",
       "    .dataframe tbody tr th {\n",
       "        vertical-align: top;\n",
       "    }\n",
       "\n",
       "    .dataframe thead th {\n",
       "        text-align: right;\n",
       "    }\n",
       "</style>\n",
       "<table border=\"1\" class=\"dataframe\">\n",
       "  <thead>\n",
       "    <tr style=\"text-align: right;\">\n",
       "      <th></th>\n",
       "      <th>Name</th>\n",
       "      <th>Age</th>\n",
       "      <th>Gender</th>\n",
       "      <th>Mode_of_transport</th>\n",
       "      <th>Distance(in_km)</th>\n",
       "      <th>Time_taken(min)</th>\n",
       "      <th>Amount_spent_monthly</th>\n",
       "      <th>Satisfaction</th>\n",
       "    </tr>\n",
       "  </thead>\n",
       "  <tbody>\n",
       "    <tr>\n",
       "      <th>3</th>\n",
       "      <td>Saad Shaikh</td>\n",
       "      <td>18</td>\n",
       "      <td>Male</td>\n",
       "      <td>Bike/ Scoter (Petrol)</td>\n",
       "      <td>25to30</td>\n",
       "      <td>35 to 40</td>\n",
       "      <td>600</td>\n",
       "      <td>3</td>\n",
       "    </tr>\n",
       "  </tbody>\n",
       "</table>\n",
       "</div>"
      ],
      "text/plain": [
       "          Name  Age Gender      Mode_of_transport Distance(in_km)  \\\n",
       "3  Saad Shaikh   18   Male  Bike/ Scoter (Petrol)          25to30   \n",
       "\n",
       "  Time_taken(min) Amount_spent_monthly  Satisfaction  \n",
       "3       35 to 40                   600             3  "
      ]
     },
     "execution_count": 80,
     "metadata": {},
     "output_type": "execute_result"
    }
   ],
   "source": [
    "df2[df2[\"Distance(in_km)\"] == '25to30']\n"
   ]
  },
  {
   "cell_type": "code",
   "execution_count": 81,
   "metadata": {},
   "outputs": [
    {
     "data": {
      "text/html": [
       "<div>\n",
       "<style scoped>\n",
       "    .dataframe tbody tr th:only-of-type {\n",
       "        vertical-align: middle;\n",
       "    }\n",
       "\n",
       "    .dataframe tbody tr th {\n",
       "        vertical-align: top;\n",
       "    }\n",
       "\n",
       "    .dataframe thead th {\n",
       "        text-align: right;\n",
       "    }\n",
       "</style>\n",
       "<table border=\"1\" class=\"dataframe\">\n",
       "  <thead>\n",
       "    <tr style=\"text-align: right;\">\n",
       "      <th></th>\n",
       "      <th>Name</th>\n",
       "      <th>Age</th>\n",
       "      <th>Gender</th>\n",
       "      <th>Mode_of_transport</th>\n",
       "      <th>Distance(in_km)</th>\n",
       "      <th>Time_taken(min)</th>\n",
       "      <th>Amount_spent_monthly</th>\n",
       "      <th>Satisfaction</th>\n",
       "    </tr>\n",
       "  </thead>\n",
       "  <tbody>\n",
       "    <tr>\n",
       "      <th>11</th>\n",
       "      <td>Unmesh Singnurkar</td>\n",
       "      <td>19</td>\n",
       "      <td>Male</td>\n",
       "      <td>Bike/ Scoter (Petrol)</td>\n",
       "      <td>16-18</td>\n",
       "      <td>1hr</td>\n",
       "      <td>2000</td>\n",
       "      <td>5</td>\n",
       "    </tr>\n",
       "  </tbody>\n",
       "</table>\n",
       "</div>"
      ],
      "text/plain": [
       "                  Name  Age Gender      Mode_of_transport Distance(in_km)  \\\n",
       "11  Unmesh Singnurkar    19   Male  Bike/ Scoter (Petrol)           16-18   \n",
       "\n",
       "   Time_taken(min) Amount_spent_monthly  Satisfaction  \n",
       "11             1hr                 2000             5  "
      ]
     },
     "execution_count": 81,
     "metadata": {},
     "output_type": "execute_result"
    }
   ],
   "source": [
    "df2[df2[\"Distance(in_km)\"] == '16-18']\n"
   ]
  },
  {
   "cell_type": "code",
   "execution_count": 82,
   "metadata": {},
   "outputs": [
    {
     "data": {
      "text/html": [
       "<div>\n",
       "<style scoped>\n",
       "    .dataframe tbody tr th:only-of-type {\n",
       "        vertical-align: middle;\n",
       "    }\n",
       "\n",
       "    .dataframe tbody tr th {\n",
       "        vertical-align: top;\n",
       "    }\n",
       "\n",
       "    .dataframe thead th {\n",
       "        text-align: right;\n",
       "    }\n",
       "</style>\n",
       "<table border=\"1\" class=\"dataframe\">\n",
       "  <thead>\n",
       "    <tr style=\"text-align: right;\">\n",
       "      <th></th>\n",
       "      <th>Name</th>\n",
       "      <th>Age</th>\n",
       "      <th>Gender</th>\n",
       "      <th>Mode_of_transport</th>\n",
       "      <th>Distance(in_km)</th>\n",
       "      <th>Time_taken(min)</th>\n",
       "      <th>Amount_spent_monthly</th>\n",
       "      <th>Satisfaction</th>\n",
       "    </tr>\n",
       "  </thead>\n",
       "  <tbody>\n",
       "    <tr>\n",
       "      <th>20</th>\n",
       "      <td>Jui Lokhande</td>\n",
       "      <td>14</td>\n",
       "      <td>Female</td>\n",
       "      <td>Bus</td>\n",
       "      <td>4-5</td>\n",
       "      <td>45</td>\n",
       "      <td>1000</td>\n",
       "      <td>2</td>\n",
       "    </tr>\n",
       "  </tbody>\n",
       "</table>\n",
       "</div>"
      ],
      "text/plain": [
       "             Name  Age  Gender Mode_of_transport Distance(in_km)  \\\n",
       "20  Jui Lokhande    14  Female               Bus             4-5   \n",
       "\n",
       "   Time_taken(min) Amount_spent_monthly  Satisfaction  \n",
       "20             45                  1000             2  "
      ]
     },
     "execution_count": 82,
     "metadata": {},
     "output_type": "execute_result"
    }
   ],
   "source": [
    "df2[df2[\"Distance(in_km)\"] == '4-5']\n"
   ]
  },
  {
   "cell_type": "code",
   "execution_count": 83,
   "metadata": {},
   "outputs": [],
   "source": [
    "df2.drop(df2[df2[\"Distance(in_km)\"] == '25to30'].index,inplace=True)"
   ]
  },
  {
   "cell_type": "code",
   "execution_count": 84,
   "metadata": {},
   "outputs": [],
   "source": [
    "df2.drop(df2[df2[\"Distance(in_km)\"] == '16-18'].index ,inplace= True)"
   ]
  },
  {
   "cell_type": "code",
   "execution_count": 85,
   "metadata": {},
   "outputs": [],
   "source": [
    "df2.drop(df2[df2[\"Distance(in_km)\"] == '4-5'].index ,inplace=True)"
   ]
  },
  {
   "cell_type": "code",
   "execution_count": 86,
   "metadata": {},
   "outputs": [
    {
     "data": {
      "text/plain": [
       "array(['20', '3', '12', '1.2', '5', '30', '2', '17', '10', '14', '11',\n",
       "       '0.57', '16', '2.5', '9', '1', '28', '8', '19', '25', '27', '22',\n",
       "       '29', '23', '26', '4', '15', '7', '24', '21', '13'], dtype=object)"
      ]
     },
     "execution_count": 86,
     "metadata": {},
     "output_type": "execute_result"
    }
   ],
   "source": [
    "df2['Distance(in_km)'].unique()"
   ]
  },
  {
   "cell_type": "code",
   "execution_count": 87,
   "metadata": {},
   "outputs": [],
   "source": [
    "df2['Distance(in_km)']=df2['Distance(in_km)'].astype('float')"
   ]
  },
  {
   "cell_type": "code",
   "execution_count": 151,
   "metadata": {},
   "outputs": [
    {
     "name": "stdout",
     "output_type": "stream",
     "text": [
      "<class 'pandas.core.frame.DataFrame'>\n",
      "Index: 49 entries, 0 to 76\n",
      "Data columns (total 8 columns):\n",
      " #   Column                Non-Null Count  Dtype  \n",
      "---  ------                --------------  -----  \n",
      " 0   Name                  49 non-null     object \n",
      " 1   Age                   49 non-null     int64  \n",
      " 2   Gender                49 non-null     object \n",
      " 3   Mode_of_transport     49 non-null     object \n",
      " 4   Distance(in_km)       49 non-null     float64\n",
      " 5   Time_taken(min)       49 non-null     float64\n",
      " 6   Amount_spent_monthly  49 non-null     object \n",
      " 7   Satisfaction          49 non-null     int64  \n",
      "dtypes: float64(2), int64(2), object(4)\n",
      "memory usage: 3.4+ KB\n"
     ]
    }
   ],
   "source": [
    "df2.info()"
   ]
  },
  {
   "cell_type": "code",
   "execution_count": 158,
   "metadata": {},
   "outputs": [],
   "source": [
    "df_final=pd.concat([df2,df4],axis=0)"
   ]
  },
  {
   "cell_type": "code",
   "execution_count": 159,
   "metadata": {},
   "outputs": [
    {
     "name": "stdout",
     "output_type": "stream",
     "text": [
      "<class 'pandas.core.frame.DataFrame'>\n",
      "Index: 74 entries, 0 to 74\n",
      "Data columns (total 8 columns):\n",
      " #   Column                Non-Null Count  Dtype  \n",
      "---  ------                --------------  -----  \n",
      " 0   Name                  74 non-null     object \n",
      " 1   Age                   74 non-null     int64  \n",
      " 2   Gender                74 non-null     object \n",
      " 3   Mode_of_transport     74 non-null     object \n",
      " 4   Distance(in_km)       74 non-null     float64\n",
      " 5   Time_taken(min)       74 non-null     float64\n",
      " 6   Amount_spent_monthly  74 non-null     object \n",
      " 7   Satisfaction          74 non-null     int64  \n",
      "dtypes: float64(2), int64(2), object(4)\n",
      "memory usage: 5.2+ KB\n"
     ]
    }
   ],
   "source": [
    "df_final.info()"
   ]
  },
  {
   "cell_type": "code",
   "execution_count": 131,
   "metadata": {},
   "outputs": [
    {
     "data": {
      "text/plain": [
       "array(['800', '500', '2000', '0', '15', '1500', '20', '1000', '400',\n",
       "       '2700', ' 10000 ', '1800', '700', '900', '2522-3614', '2258',\n",
       "       '3751', '1078', '2140', '713', '1616', '2108-3579', '2589', '4920',\n",
       "       '2594', '1998-3566', '2752', '2921', '4338', '1777', '3656',\n",
       "       '1464', '2020', '3863', '1371-4182', '2169', '1937', '1068',\n",
       "       '1265-4366', '3738', '3592', '1500-2000', '1600', '2979', '4764',\n",
       "       '3977', '4590', '1580', '2853', '881', '2804', '4377', '3200',\n",
       "       '1945', '851', '3973', '2282', '4804', '2230-3302', '2965-4856',\n",
       "       '1404-3415', '839', '4663', '1065', '4376', '1712-3031'],\n",
       "      dtype=object)"
      ]
     },
     "execution_count": 131,
     "metadata": {},
     "output_type": "execute_result"
    }
   ],
   "source": [
    "df_final['Amount_spent_monthly'].unique()"
   ]
  },
  {
   "cell_type": "code",
   "execution_count": 161,
   "metadata": {},
   "outputs": [],
   "source": [
    "df_final.drop(index=df_final[df_final['Amount_spent_monthly']== \"Don't know\"].index,inplace=True)\n",
    "df_final.drop(index=df_final[df_final['Amount_spent_monthly']== 'Nothing'].index,inplace=True)\n",
    "df_final['Amount_spent_monthly']=df_final['Amount_spent_monthly']=df['Amount_spent_monthly'].str.replace(\"rs\",\"\")\n",
    "df_final['Amount_spent_monthly']=df_final['Amount_spent_monthly'].str.replace(\"/-\",\"\")\n",
    "df_final['Amount_spent_monthly']=df_final['Amount_spent_monthly'].str.replace(\"(approx)\",\"\")\n",
    "df_final['Amount_spent_monthly']=df_final['Amount_spent_monthly'].str.replace(\",\",\"\")\n",
    "df_final['Amount_spent_monthly']=df_final['Amount_spent_monthly'].str.replace(\"₹\",\"\")\n"
   ]
  },
  {
   "cell_type": "code",
   "execution_count": 162,
   "metadata": {},
   "outputs": [],
   "source": [
    "df5=df_final[df_final[\"Amount_spent_monthly\"].str.contains(\"-\")]"
   ]
  },
  {
   "cell_type": "code",
   "execution_count": 163,
   "metadata": {},
   "outputs": [],
   "source": [
    "df_final.drop(index=df_final[df_final[\"Amount_spent_monthly\"].str.contains(\"-\")].index,inplace=True)"
   ]
  },
  {
   "cell_type": "code",
   "execution_count": 164,
   "metadata": {},
   "outputs": [],
   "source": [
    "df_final['Amount_spent_monthly']=df_final['Amount_spent_monthly'].astype(\"float\")"
   ]
  },
  {
   "cell_type": "code",
   "execution_count": 165,
   "metadata": {},
   "outputs": [
    {
     "data": {
      "text/plain": [
       "10"
      ]
     },
     "execution_count": 165,
     "metadata": {},
     "output_type": "execute_result"
    }
   ],
   "source": [
    "amount=(df5['Amount_spent_monthly'].str.split(\"-\"))\n",
    "int_amount=[]\n",
    "for i,n in amount :\n",
    "    am=(int(i.strip())+int(n.strip()))/2\n",
    "    int_amount.append(am)\n",
    "    \n",
    "len(int_amount)\n"
   ]
  },
  {
   "cell_type": "code",
   "execution_count": 166,
   "metadata": {},
   "outputs": [],
   "source": [
    "df5['Amount_spent_monthly']=int_amount"
   ]
  },
  {
   "cell_type": "code",
   "execution_count": 167,
   "metadata": {},
   "outputs": [
    {
     "name": "stdout",
     "output_type": "stream",
     "text": [
      "<class 'pandas.core.frame.DataFrame'>\n",
      "Index: 62 entries, 0 to 71\n",
      "Data columns (total 8 columns):\n",
      " #   Column                Non-Null Count  Dtype  \n",
      "---  ------                --------------  -----  \n",
      " 0   Name                  62 non-null     object \n",
      " 1   Age                   62 non-null     int64  \n",
      " 2   Gender                62 non-null     object \n",
      " 3   Mode_of_transport     62 non-null     object \n",
      " 4   Distance(in_km)       62 non-null     float64\n",
      " 5   Time_taken(min)       62 non-null     float64\n",
      " 6   Amount_spent_monthly  62 non-null     float64\n",
      " 7   Satisfaction          62 non-null     int64  \n",
      "dtypes: float64(3), int64(2), object(3)\n",
      "memory usage: 4.4+ KB\n"
     ]
    }
   ],
   "source": [
    "df_final.info()"
   ]
  },
  {
   "cell_type": "code",
   "execution_count": 168,
   "metadata": {},
   "outputs": [],
   "source": [
    "df_final=pd.concat([df_final,df5],axis=0)"
   ]
  },
  {
   "cell_type": "code",
   "execution_count": 169,
   "metadata": {},
   "outputs": [
    {
     "name": "stdout",
     "output_type": "stream",
     "text": [
      "<class 'pandas.core.frame.DataFrame'>\n",
      "Index: 72 entries, 0 to 74\n",
      "Data columns (total 8 columns):\n",
      " #   Column                Non-Null Count  Dtype  \n",
      "---  ------                --------------  -----  \n",
      " 0   Name                  72 non-null     object \n",
      " 1   Age                   72 non-null     int64  \n",
      " 2   Gender                72 non-null     object \n",
      " 3   Mode_of_transport     72 non-null     object \n",
      " 4   Distance(in_km)       72 non-null     float64\n",
      " 5   Time_taken(min)       72 non-null     float64\n",
      " 6   Amount_spent_monthly  72 non-null     float64\n",
      " 7   Satisfaction          72 non-null     int64  \n",
      "dtypes: float64(3), int64(2), object(3)\n",
      "memory usage: 5.1+ KB\n"
     ]
    }
   ],
   "source": [
    "df_final.info()"
   ]
  },
  {
   "cell_type": "code",
   "execution_count": 171,
   "metadata": {},
   "outputs": [
    {
     "data": {
      "text/html": [
       "<div>\n",
       "<style scoped>\n",
       "    .dataframe tbody tr th:only-of-type {\n",
       "        vertical-align: middle;\n",
       "    }\n",
       "\n",
       "    .dataframe tbody tr th {\n",
       "        vertical-align: top;\n",
       "    }\n",
       "\n",
       "    .dataframe thead th {\n",
       "        text-align: right;\n",
       "    }\n",
       "</style>\n",
       "<table border=\"1\" class=\"dataframe\">\n",
       "  <thead>\n",
       "    <tr style=\"text-align: right;\">\n",
       "      <th></th>\n",
       "      <th>Name</th>\n",
       "      <th>Age</th>\n",
       "      <th>Gender</th>\n",
       "      <th>Mode_of_transport</th>\n",
       "      <th>Distance(in_km)</th>\n",
       "      <th>Time_taken(min)</th>\n",
       "      <th>Amount_spent_monthly</th>\n",
       "      <th>Satisfaction</th>\n",
       "    </tr>\n",
       "  </thead>\n",
       "  <tbody>\n",
       "    <tr>\n",
       "      <th>0</th>\n",
       "      <td>Vedant Sunil Patil</td>\n",
       "      <td>17</td>\n",
       "      <td>Male</td>\n",
       "      <td>Bus</td>\n",
       "      <td>20.0</td>\n",
       "      <td>120.0</td>\n",
       "      <td>800.0</td>\n",
       "      <td>3</td>\n",
       "    </tr>\n",
       "    <tr>\n",
       "      <th>1</th>\n",
       "      <td>VISHISHT PAL</td>\n",
       "      <td>17</td>\n",
       "      <td>Male</td>\n",
       "      <td>Bike/ Scoter (Petrol)</td>\n",
       "      <td>3.0</td>\n",
       "      <td>10.0</td>\n",
       "      <td>500.0</td>\n",
       "      <td>3</td>\n",
       "    </tr>\n",
       "    <tr>\n",
       "      <th>4</th>\n",
       "      <td>Yash Dharao</td>\n",
       "      <td>19</td>\n",
       "      <td>Male</td>\n",
       "      <td>Bike/ Scoter (Petrol)</td>\n",
       "      <td>12.0</td>\n",
       "      <td>25.0</td>\n",
       "      <td>2000.0</td>\n",
       "      <td>3</td>\n",
       "    </tr>\n",
       "    <tr>\n",
       "      <th>5</th>\n",
       "      <td>Raj Upadhye</td>\n",
       "      <td>19</td>\n",
       "      <td>Male</td>\n",
       "      <td>Walking</td>\n",
       "      <td>1.2</td>\n",
       "      <td>30.0</td>\n",
       "      <td>0.0</td>\n",
       "      <td>5</td>\n",
       "    </tr>\n",
       "    <tr>\n",
       "      <th>6</th>\n",
       "      <td>Romit</td>\n",
       "      <td>18</td>\n",
       "      <td>Male</td>\n",
       "      <td>Bus</td>\n",
       "      <td>5.0</td>\n",
       "      <td>20.0</td>\n",
       "      <td>15.0</td>\n",
       "      <td>5</td>\n",
       "    </tr>\n",
       "  </tbody>\n",
       "</table>\n",
       "</div>"
      ],
      "text/plain": [
       "                 Name  Age Gender      Mode_of_transport  Distance(in_km)  \\\n",
       "0  Vedant Sunil Patil   17   Male                    Bus             20.0   \n",
       "1        VISHISHT PAL   17   Male  Bike/ Scoter (Petrol)              3.0   \n",
       "4        Yash Dharao    19   Male  Bike/ Scoter (Petrol)             12.0   \n",
       "5         Raj Upadhye   19   Male                Walking              1.2   \n",
       "6               Romit   18   Male                    Bus              5.0   \n",
       "\n",
       "   Time_taken(min)  Amount_spent_monthly  Satisfaction  \n",
       "0            120.0                 800.0             3  \n",
       "1             10.0                 500.0             3  \n",
       "4             25.0                2000.0             3  \n",
       "5             30.0                   0.0             5  \n",
       "6             20.0                  15.0             5  "
      ]
     },
     "execution_count": 171,
     "metadata": {},
     "output_type": "execute_result"
    }
   ],
   "source": [
    "df_final.head()"
   ]
  },
  {
   "cell_type": "code",
   "execution_count": 172,
   "metadata": {},
   "outputs": [],
   "source": [
    "df_final.to_csv(\"Travel_and_Commuting_Preferences_cleaned.csv\")"
   ]
  },
  {
   "cell_type": "code",
   "execution_count": 179,
   "metadata": {},
   "outputs": [
    {
     "data": {
      "text/html": [
       "<div>\n",
       "<style scoped>\n",
       "    .dataframe tbody tr th:only-of-type {\n",
       "        vertical-align: middle;\n",
       "    }\n",
       "\n",
       "    .dataframe tbody tr th {\n",
       "        vertical-align: top;\n",
       "    }\n",
       "\n",
       "    .dataframe thead th {\n",
       "        text-align: right;\n",
       "    }\n",
       "</style>\n",
       "<table border=\"1\" class=\"dataframe\">\n",
       "  <thead>\n",
       "    <tr style=\"text-align: right;\">\n",
       "      <th></th>\n",
       "      <th>Distance(in_km)</th>\n",
       "      <th>Time_taken(min)</th>\n",
       "      <th>Amount_spent_monthly</th>\n",
       "    </tr>\n",
       "  </thead>\n",
       "  <tbody>\n",
       "    <tr>\n",
       "      <th>0</th>\n",
       "      <td>20.0</td>\n",
       "      <td>120.0</td>\n",
       "      <td>800.0</td>\n",
       "    </tr>\n",
       "    <tr>\n",
       "      <th>1</th>\n",
       "      <td>3.0</td>\n",
       "      <td>10.0</td>\n",
       "      <td>500.0</td>\n",
       "    </tr>\n",
       "    <tr>\n",
       "      <th>4</th>\n",
       "      <td>12.0</td>\n",
       "      <td>25.0</td>\n",
       "      <td>2000.0</td>\n",
       "    </tr>\n",
       "    <tr>\n",
       "      <th>5</th>\n",
       "      <td>1.2</td>\n",
       "      <td>30.0</td>\n",
       "      <td>0.0</td>\n",
       "    </tr>\n",
       "    <tr>\n",
       "      <th>6</th>\n",
       "      <td>5.0</td>\n",
       "      <td>20.0</td>\n",
       "      <td>15.0</td>\n",
       "    </tr>\n",
       "    <tr>\n",
       "      <th>...</th>\n",
       "      <td>...</td>\n",
       "      <td>...</td>\n",
       "      <td>...</td>\n",
       "    </tr>\n",
       "    <tr>\n",
       "      <th>2</th>\n",
       "      <td>20.0</td>\n",
       "      <td>30.0</td>\n",
       "      <td>1750.0</td>\n",
       "    </tr>\n",
       "    <tr>\n",
       "      <th>62</th>\n",
       "      <td>25.0</td>\n",
       "      <td>46.0</td>\n",
       "      <td>2766.0</td>\n",
       "    </tr>\n",
       "    <tr>\n",
       "      <th>64</th>\n",
       "      <td>28.0</td>\n",
       "      <td>23.0</td>\n",
       "      <td>3910.5</td>\n",
       "    </tr>\n",
       "    <tr>\n",
       "      <th>66</th>\n",
       "      <td>19.0</td>\n",
       "      <td>55.0</td>\n",
       "      <td>2409.5</td>\n",
       "    </tr>\n",
       "    <tr>\n",
       "      <th>74</th>\n",
       "      <td>23.0</td>\n",
       "      <td>26.0</td>\n",
       "      <td>2371.5</td>\n",
       "    </tr>\n",
       "  </tbody>\n",
       "</table>\n",
       "<p>72 rows × 3 columns</p>\n",
       "</div>"
      ],
      "text/plain": [
       "    Distance(in_km)  Time_taken(min)  Amount_spent_monthly\n",
       "0              20.0            120.0                 800.0\n",
       "1               3.0             10.0                 500.0\n",
       "4              12.0             25.0                2000.0\n",
       "5               1.2             30.0                   0.0\n",
       "6               5.0             20.0                  15.0\n",
       "..              ...              ...                   ...\n",
       "2              20.0             30.0                1750.0\n",
       "62             25.0             46.0                2766.0\n",
       "64             28.0             23.0                3910.5\n",
       "66             19.0             55.0                2409.5\n",
       "74             23.0             26.0                2371.5\n",
       "\n",
       "[72 rows x 3 columns]"
      ]
     },
     "execution_count": 179,
     "metadata": {},
     "output_type": "execute_result"
    }
   ],
   "source": [
    "df_final[[i for i in df_final.columns if df_final[i].dtype =='float']]"
   ]
  },
  {
   "cell_type": "code",
   "execution_count": 186,
   "metadata": {},
   "outputs": [
    {
     "data": {
      "text/plain": [
       "<Axes: >"
      ]
     },
     "execution_count": 186,
     "metadata": {},
     "output_type": "execute_result"
    },
    {
     "data": {
      "image/png": "[encoded data removed]",
      "text/plain": [
       "<Figure size 640x480 with 1 Axes>"
      ]
     },
     "metadata": {},
     "output_type": "display_data"
    }
   ],
   "source": [
    "sns.boxplot(data=df_final[[i for i in df_final.columns if df_final[i].dtype =='float' or df_final[i].dtype==\"float\"]])"
   ]
  },
  {
   "cell_type": "code",
   "execution_count": 187,
   "metadata": {},
   "outputs": [
    {
     "data": {
      "text/plain": [
       "<Axes: >"
      ]
     },
     "execution_count": 187,
     "metadata": {},
     "output_type": "execute_result"
    },
    {
     "data": {
      "image/png": "[encoded data removed]",
      "text/plain": [
       "<Figure size 640x480 with 1 Axes>"
      ]
     },
     "metadata": {},
     "output_type": "display_data"
    }
   ],
   "source": [
    "sns.boxplot(data=df_final[[\"Distance(in_km)\",\"Time_taken(min)\"]])"
   ]
  },
  {
   "cell_type": "code",
   "execution_count": null,
   "metadata": {},
   "outputs": [],
   "source": []
  }
 ],
 "metadata": {
  "kernelspec": {
   "display_name": "Python 3",
   "language": "python",
   "name": "python3"
  },
  "language_info": {
   "codemirror_mode": {
    "name": "ipython",
    "version": 3
   },
   "file_extension": ".py",
   "mimetype": "text/x-python",
   "name": "python",
   "nbconvert_exporter": "python",
   "pygments_lexer": "ipython3",
   "version": "3.13.0"
  }
 },
 "nbformat": 4,
 "nbformat_minor": 2
}
