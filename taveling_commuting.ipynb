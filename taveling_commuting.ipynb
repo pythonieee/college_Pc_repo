{
 "cells": [
  {
   "cell_type": "code",
   "execution_count": 2,
   "metadata": {},
   "outputs": [],
   "source": [
    "import pandas as pd \n",
    "import numpy as np\n",
    "import matplotlib.pyplot as plt \n",
    "import seaborn as sns\n",
    "\n",
    "%matplotlib inline \n"
   ]
  },
  {
   "cell_type": "code",
   "execution_count": 3,
   "metadata": {},
   "outputs": [],
   "source": [
    "df=pd.read_csv(\"Travel_and_Commuting_Preferences.csv\")"
   ]
  },
  {
   "cell_type": "code",
   "execution_count": 4,
   "metadata": {},
   "outputs": [
    {
     "data": {
      "text/html": [
       "<div>\n",
       "<style scoped>\n",
       "    .dataframe tbody tr th:only-of-type {\n",
       "        vertical-align: middle;\n",
       "    }\n",
       "\n",
       "    .dataframe tbody tr th {\n",
       "        vertical-align: top;\n",
       "    }\n",
       "\n",
       "    .dataframe thead th {\n",
       "        text-align: right;\n",
       "    }\n",
       "</style>\n",
       "<table border=\"1\" class=\"dataframe\">\n",
       "  <thead>\n",
       "    <tr style=\"text-align: right;\">\n",
       "      <th></th>\n",
       "      <th>What is your Name?</th>\n",
       "      <th>What is your Age?</th>\n",
       "      <th>What is your Gender?</th>\n",
       "      <th>What is your primary mode of transport?</th>\n",
       "      <th>How far do you travel daily (one way)? (in km)</th>\n",
       "      <th>How much time does it take for your commute (one way)? (in minutes)</th>\n",
       "      <th>How much do you spend on commuting per month? (in INR)</th>\n",
       "      <th>How satisfied are you with your daily commute? (1 = Very Dissatisfied, 5 = Very Satisfied)</th>\n",
       "    </tr>\n",
       "  </thead>\n",
       "  <tbody>\n",
       "    <tr>\n",
       "      <th>0</th>\n",
       "      <td>Vedant Sunil Patil</td>\n",
       "      <td>17</td>\n",
       "      <td>Male</td>\n",
       "      <td>Bus</td>\n",
       "      <td>20</td>\n",
       "      <td>120</td>\n",
       "      <td>800</td>\n",
       "      <td>3</td>\n",
       "    </tr>\n",
       "    <tr>\n",
       "      <th>1</th>\n",
       "      <td>VISHISHT PAL</td>\n",
       "      <td>17</td>\n",
       "      <td>Male</td>\n",
       "      <td>Bike/ Scoter (Petrol)</td>\n",
       "      <td>3</td>\n",
       "      <td>10</td>\n",
       "      <td>500</td>\n",
       "      <td>3</td>\n",
       "    </tr>\n",
       "    <tr>\n",
       "      <th>2</th>\n",
       "      <td>Ritika</td>\n",
       "      <td>18</td>\n",
       "      <td>Female</td>\n",
       "      <td>Bus</td>\n",
       "      <td>20km</td>\n",
       "      <td>1hr30mins</td>\n",
       "      <td>1500-2000rs</td>\n",
       "      <td>2</td>\n",
       "    </tr>\n",
       "    <tr>\n",
       "      <th>3</th>\n",
       "      <td>Saad Shaikh</td>\n",
       "      <td>18</td>\n",
       "      <td>Male</td>\n",
       "      <td>Bike/ Scoter (Petrol)</td>\n",
       "      <td>25 to 30</td>\n",
       "      <td>35 to 40 mins</td>\n",
       "      <td>600</td>\n",
       "      <td>3</td>\n",
       "    </tr>\n",
       "    <tr>\n",
       "      <th>4</th>\n",
       "      <td>Yash Dharao</td>\n",
       "      <td>19</td>\n",
       "      <td>Male</td>\n",
       "      <td>Bike/ Scoter (Petrol)</td>\n",
       "      <td>12km</td>\n",
       "      <td>25 minutes</td>\n",
       "      <td>2000</td>\n",
       "      <td>3</td>\n",
       "    </tr>\n",
       "  </tbody>\n",
       "</table>\n",
       "</div>"
      ],
      "text/plain": [
       "    What is your Name?       What is your Age?    What is your Gender?   \\\n",
       "0      Vedant Sunil Patil                      17                  Male   \n",
       "1            VISHISHT PAL                      17                  Male   \n",
       "2                  Ritika                      18                Female   \n",
       "3             Saad Shaikh                      18                  Male   \n",
       "4            Yash Dharao                       19                  Male   \n",
       "\n",
       "  What is your primary mode of transport?   \\\n",
       "0                                      Bus   \n",
       "1                    Bike/ Scoter (Petrol)   \n",
       "2                                      Bus   \n",
       "3                    Bike/ Scoter (Petrol)   \n",
       "4                    Bike/ Scoter (Petrol)   \n",
       "\n",
       "  How far do you travel daily (one way)? (in km)   \\\n",
       "0                                              20   \n",
       "1                                               3   \n",
       "2                                            20km   \n",
       "3                                        25 to 30   \n",
       "4                                            12km   \n",
       "\n",
       "    How much time does it take for your commute (one way)? (in minutes)  \\\n",
       "0                                                120                      \n",
       "1                                                 10                      \n",
       "2                                          1hr30mins                      \n",
       "3                                      35 to 40 mins                      \n",
       "4                                        25 minutes                       \n",
       "\n",
       "    How much do you spend on commuting per month? (in INR)  \\\n",
       "0                                                800         \n",
       "1                                                500         \n",
       "2                                        1500-2000rs         \n",
       "3                                                600         \n",
       "4                                               2000         \n",
       "\n",
       "   How satisfied are you with your daily commute? (1 = Very Dissatisfied, 5 = Very Satisfied)   \n",
       "0                                                  3                                            \n",
       "1                                                  3                                            \n",
       "2                                                  2                                            \n",
       "3                                                  3                                            \n",
       "4                                                  3                                            "
      ]
     },
     "execution_count": 4,
     "metadata": {},
     "output_type": "execute_result"
    }
   ],
   "source": [
    "df.head()"
   ]
  },
  {
   "cell_type": "markdown",
   "metadata": {},
   "source": [
    "## Labeling the data \n"
   ]
  },
  {
   "cell_type": "code",
   "execution_count": 5,
   "metadata": {},
   "outputs": [
    {
     "data": {
      "text/plain": [
       "Index(['  What is your Name?   ', '  What is your Age?   ',\n",
       "       'What is your Gender? ', 'What is your primary mode of transport? ',\n",
       "       'How far do you travel daily (one way)? (in km) ',\n",
       "       '  How much time does it take for your commute (one way)? (in minutes)',\n",
       "       '  How much do you spend on commuting per month? (in INR)',\n",
       "       'How satisfied are you with your daily commute? (1 = Very Dissatisfied, 5 = Very Satisfied) '],\n",
       "      dtype='object')"
      ]
     },
     "execution_count": 5,
     "metadata": {},
     "output_type": "execute_result"
    }
   ],
   "source": [
    "df.columns"
   ]
  },
  {
   "cell_type": "code",
   "execution_count": 6,
   "metadata": {},
   "outputs": [],
   "source": [
    "df.rename(columns={\"  What is your Name?   \":\"Name\",\"  What is your Age?   \":\"Age\",\"What is your Gender? \":\"Gender\",\"What is your primary mode of transport? \":\"Mode_of_transport\",\"How far do you travel daily (one way)? (in km) \":\"Distance(in_km)\",\"  How much time does it take for your commute (one way)? (in minutes)\":\"Time_taken(min)\",\"  How much do you spend on commuting per month? (in INR)\":\"Amount_spent_monthly\",\"How satisfied are you with your daily commute? (1 = Very Dissatisfied, 5 = Very Satisfied) \":\"Satisfaction\"},inplace=True)"
   ]
  },
  {
   "cell_type": "code",
   "execution_count": 7,
   "metadata": {},
   "outputs": [],
   "source": [
    "df.to_csv(\"Travel_and_Commuting_Preferences_2.csv\")"
   ]
  },
  {
   "cell_type": "code",
   "execution_count": 8,
   "metadata": {},
   "outputs": [],
   "source": [
    "df2=pd.read_csv(\"Travel_and_Commuting_Preferences_2.csv\")"
   ]
  },
  {
   "cell_type": "code",
   "execution_count": 9,
   "metadata": {},
   "outputs": [
    {
     "name": "stdout",
     "output_type": "stream",
     "text": [
      "<class 'pandas.core.frame.DataFrame'>\n",
      "RangeIndex: 77 entries, 0 to 76\n",
      "Data columns (total 9 columns):\n",
      " #   Column                Non-Null Count  Dtype \n",
      "---  ------                --------------  ----- \n",
      " 0   Unnamed: 0            77 non-null     int64 \n",
      " 1   Name                  77 non-null     object\n",
      " 2   Age                   77 non-null     int64 \n",
      " 3   Gender                77 non-null     object\n",
      " 4   Mode_of_transport     77 non-null     object\n",
      " 5   Distance(in_km)       77 non-null     object\n",
      " 6   Time_taken(min)       77 non-null     object\n",
      " 7   Amount_spent_monthly  77 non-null     object\n",
      " 8   Satisfaction          77 non-null     int64 \n",
      "dtypes: int64(3), object(6)\n",
      "memory usage: 5.5+ KB\n"
     ]
    }
   ],
   "source": [
    "df2.info()"
   ]
  },
  {
   "cell_type": "code",
   "execution_count": 10,
   "metadata": {},
   "outputs": [
    {
     "data": {
      "text/plain": [
       "([<matplotlib.patches.Wedge at 0x1edd3e4a900>,\n",
       "  <matplotlib.patches.Wedge at 0x1edd3e56850>,\n",
       "  <matplotlib.patches.Wedge at 0x1edd3e56c10>,\n",
       "  <matplotlib.patches.Wedge at 0x1edd3e56fd0>,\n",
       "  <matplotlib.patches.Wedge at 0x1edd3e57250>,\n",
       "  <matplotlib.patches.Wedge at 0x1edd3e57610>,\n",
       "  <matplotlib.patches.Wedge at 0x1edd3e579d0>,\n",
       "  <matplotlib.patches.Wedge at 0x1edd3e57d90>,\n",
       "  <matplotlib.patches.Wedge at 0x1edd3ea0190>,\n",
       "  <matplotlib.patches.Wedge at 0x1edd3ea0550>,\n",
       "  <matplotlib.patches.Wedge at 0x1edd3ea0910>,\n",
       "  <matplotlib.patches.Wedge at 0x1edd3ea0e10>],\n",
       " [Text(0.6858387239483094, 0.860014677045081, '17'),\n",
       "  Text(-0.8458457150554024, 0.7032389539284746, '18'),\n",
       "  Text(-0.9910658533096702, -0.4772719082489304, '19'),\n",
       "  Text(-0.28831213729956323, -1.0615442108013016, '5'),\n",
       "  Text(0.3738779417483149, -1.0345120998200281, '27'),\n",
       "  Text(0.785710504661066, -0.7698434924484673, '14'),\n",
       "  Text(0.9707736320630895, -0.5172992898613311, '21'),\n",
       "  Text(1.0266701317731486, -0.3949030773809008, '28'),\n",
       "  Text(1.0554423562837163, -0.30990552199384463, '29'),\n",
       "  Text(1.0771906144018017, -0.2228460909342344, '15'),\n",
       "  Text(1.0917703637054192, -0.13430365942347472, '20'),\n",
       "  Text(1.099084578598543, -0.04486746133740271, '22')],\n",
       " [Text(0.3740938494263505, 0.46909891475186233, '28.57%'),\n",
       "  Text(-0.46137039003021946, 0.38358488396098606, '20.78%'),\n",
       "  Text(-0.5405813745325473, -0.2603301317721438, '15.58%'),\n",
       "  Text(-0.15726116579976177, -0.579024114982528, '11.69%'),\n",
       "  Text(0.2039334227718081, -0.5642793271745608, '7.79%'),\n",
       "  Text(0.4285693661787632, -0.41991463224461845, '6.49%'),\n",
       "  Text(0.5295128902162306, -0.28216324901527146, '2.60%'),\n",
       "  Text(0.560001890058081, -0.21540167857140044, '1.30%'),\n",
       "  Text(0.5756958307002088, -0.16903937563300617, '1.30%'),\n",
       "  Text(0.5875585169464372, -0.12155241323685512, '1.30%'),\n",
       "  Text(0.5955111074756831, -0.07325654150371347, '1.30%'),\n",
       "  Text(0.5995006792355688, -0.024473160729492384, '1.30%')])"
      ]
     },
     "execution_count": 10,
     "metadata": {},
     "output_type": "execute_result"
    },
    {
     "data": {
      "image/png": "[encoded data removed]",
      "text/plain": [
       "<Figure size 700x700 with 1 Axes>"
      ]
     },
     "metadata": {},
     "output_type": "display_data"
    }
   ],
   "source": [
    "plt.figure(figsize=(7,7))\n",
    "plt.title(\"Age\")\n",
    "plt.pie(x=df2[\"Age\"].value_counts(),labels=df['Age'].unique(),autopct=\"%2.2f%%\")"
   ]
  },
  {
   "cell_type": "code",
   "execution_count": 13,
   "metadata": {},
   "outputs": [
    {
     "data": {
      "text/plain": [
       "([<matplotlib.patches.Wedge at 0x1edd86c11d0>,\n",
       "  <matplotlib.patches.Wedge at 0x1edd86c1590>],\n",
       " [Text(-0.4157634333785677, 1.018401083790304, 'Male'),\n",
       "  Text(0.4157632796042775, -1.018401146568824, 'Female')],\n",
       " [Text(-0.22678005457012781, 0.5554915002492565, '62.34%'),\n",
       "  Text(0.22677997069324224, -0.5554915344920858, '37.66%')])"
      ]
     },
     "execution_count": 13,
     "metadata": {},
     "output_type": "execute_result"
    },
    {
     "data": {
      "image/png": "[encoded data removed]",
      "text/plain": [
       "<Figure size 640x480 with 1 Axes>"
      ]
     },
     "metadata": {},
     "output_type": "display_data"
    }
   ],
   "source": [
    "plt.title(\"Gender\")\n",
    "plt.pie(x=df2['Gender'].value_counts(),labels=df2['Gender'].unique(),autopct=\"%2.2f%%\")"
   ]
  },
  {
   "cell_type": "markdown",
   "metadata": {},
   "source": [
    "## Data cleaning "
   ]
  },
  {
   "cell_type": "code",
   "execution_count": 16,
   "metadata": {},
   "outputs": [
    {
     "data": {
      "text/plain": [
       "array(['20', '3', '20km', '25 to 30', '12km', '1.2', '5km', '30', '2km',\n",
       "       '5 Km', '16-18km', '17', '10', '14', '11 km', '0.57', '3 km',\n",
       "       '4-5km', '16 km', '5', '2.5 km', '9', '1km', '1', '28km', '8km',\n",
       "       '14km', '30km', '19', '25km', '19km', '27km', '22', '29km', '23km',\n",
       "       '11km', '26km', '4km', '15', '17km', '7km', '22km', '24km', '21km',\n",
       "       '27', '13km', '9km', '23', '25'], dtype=object)"
      ]
     },
     "execution_count": 16,
     "metadata": {},
     "output_type": "execute_result"
    }
   ],
   "source": [
    "df2['Distance(in_km)'].unique()"
   ]
  },
  {
   "cell_type": "code",
   "execution_count": 17,
   "metadata": {},
   "outputs": [
    {
     "data": {
      "text/plain": [
       "array(['800', '500', '1500-2000rs', '600', '2000', '0', '15rs', '1500',\n",
       "       '20', '1600', '1000', '1000/-', \"Don't know\", '400', '2700',\n",
       "       '₹ 10,000/- (approx)', '1800', '700₹', '900', 'Nothing', '2979',\n",
       "       '4764', '2522-3614rs', '2258', '3751', '1078', '3977', '4590',\n",
       "       '2140', '1580', '2853', '713', '881', '1616', '2108-3579rs',\n",
       "       '2804', '4377', '3200', '2589', '4920', '2594', '1945', '851',\n",
       "       '1998-3566rs', '2752', '2921', '4338', '1777', '3656', '3973',\n",
       "       '2282', '1464', '2020', '3863', '4804', '2230-3302rs',\n",
       "       '1371-4182rs', '2965-4856rs', '2169', '1404-3415rs', '1937', '839',\n",
       "       '4663', '1065', '4376', '1068', '1265-4366rs', '1712-3031rs',\n",
       "       '3738', '3592'], dtype=object)"
      ]
     },
     "execution_count": 17,
     "metadata": {},
     "output_type": "execute_result"
    }
   ],
   "source": [
    "df2['Amount_spent_monthly'].unique()"
   ]
  },
  {
   "cell_type": "code",
   "execution_count": 69,
   "metadata": {},
   "outputs": [
    {
     "data": {
      "text/plain": [
       "Time_taken(min)\n",
       "10        2\n",
       "20        2\n",
       "60        2\n",
       "30        2\n",
       "15        2\n",
       "         ..\n",
       "52        1\n",
       "37        1\n",
       "1hr 26    1\n",
       "58        1\n",
       "16        1\n",
       "Name: count, Length: 68, dtype: int64"
      ]
     },
     "execution_count": 69,
     "metadata": {},
     "output_type": "execute_result"
    }
   ],
   "source": [
    "df2['Time_taken(min)'].value_counts()"
   ]
  },
  {
   "cell_type": "code",
   "execution_count": 68,
   "metadata": {},
   "outputs": [
    {
     "data": {
      "text/plain": [
       "array(['120', '10', '1hr30', '25  ', '30 ', '20  ', '60', '80', '20 ',\n",
       "       '60 ', '1.5 hr', '25', '90', '30', '20', '15', '60  ', '15  ',\n",
       "       '2hr 26', '1hr 22', '44 ', '18 ', '10 ', '42 ', '2hr 27', '2hr 46',\n",
       "       '23 ', '2hr 43', '1hr 48', '39 ', '2hr 51', '75 ', '12 ', '1hr 17',\n",
       "       '1hr 59', '1hr 5', '61 ', '77 ', '48 ', '2hr 20', '1hr 29', '87 ',\n",
       "       '11 ', '76 ', '22 ', '38 ', '82 ', '1hr 33', '2hr 32', '43 ',\n",
       "       '57 ', '24 ', '1hr 12', '1hr 46', '63 ', '2hr 23', '26 ', '1hr 55',\n",
       "       '36 ', '1hr 50', '1hr 58', '2hr 15', '2hr 57', '52 ', '37 ',\n",
       "       '1hr 26', '58 ', '16 '], dtype=object)"
      ]
     },
     "execution_count": 68,
     "metadata": {},
     "output_type": "execute_result"
    }
   ],
   "source": [
    "df2['Time_taken(min)'].unique()"
   ]
  },
  {
   "cell_type": "code",
   "execution_count": 72,
   "metadata": {},
   "outputs": [
    {
     "data": {
      "text/plain": [
       "[['120'],\n",
       " ['10'],\n",
       " ['1', '30'],\n",
       " ['25  '],\n",
       " ['30 '],\n",
       " ['20  '],\n",
       " ['60'],\n",
       " ['80'],\n",
       " ['20 '],\n",
       " ['60 '],\n",
       " ['60'],\n",
       " ['1.5 ', ''],\n",
       " ['25'],\n",
       " ['30 '],\n",
       " ['90'],\n",
       " ['30'],\n",
       " ['20'],\n",
       " ['15'],\n",
       " ['60  '],\n",
       " ['30'],\n",
       " ['15  '],\n",
       " ['20'],\n",
       " ['10'],\n",
       " ['15'],\n",
       " ['2', ' 26'],\n",
       " ['1', ' 22'],\n",
       " ['44 '],\n",
       " ['18 '],\n",
       " ['10 '],\n",
       " ['42 '],\n",
       " ['2', ' 27'],\n",
       " ['2', ' 46'],\n",
       " ['23 '],\n",
       " ['2', ' 43'],\n",
       " ['1', ' 48'],\n",
       " ['39 '],\n",
       " ['2', ' 51'],\n",
       " ['75 '],\n",
       " ['12 '],\n",
       " ['1', ' 17'],\n",
       " ['1', ' 59'],\n",
       " ['1', ' 5'],\n",
       " ['61 '],\n",
       " ['77 '],\n",
       " ['48 '],\n",
       " ['2', ' 20'],\n",
       " ['1', ' 29'],\n",
       " ['87 '],\n",
       " ['11 '],\n",
       " ['76 '],\n",
       " ['22 '],\n",
       " ['38 '],\n",
       " ['82 '],\n",
       " ['1', ' 33'],\n",
       " ['2', ' 32'],\n",
       " ['43 '],\n",
       " ['57 '],\n",
       " ['24 '],\n",
       " ['1', ' 12'],\n",
       " ['1', ' 46'],\n",
       " ['63 '],\n",
       " ['2', ' 23'],\n",
       " ['26 '],\n",
       " ['1', ' 55'],\n",
       " ['36 '],\n",
       " ['1', ' 50'],\n",
       " ['1', ' 58'],\n",
       " ['2', ' 15'],\n",
       " ['2', ' 57'],\n",
       " ['52 '],\n",
       " ['37 '],\n",
       " ['1', ' 26'],\n",
       " ['58 '],\n",
       " ['16 ']]"
      ]
     },
     "execution_count": 72,
     "metadata": {},
     "output_type": "execute_result"
    }
   ],
   "source": [
    "list(df2['Time_taken(min)'].str.split(\"hr\"))"
   ]
  },
  {
   "cell_type": "code",
   "execution_count": 67,
   "metadata": {},
   "outputs": [],
   "source": [
    "df2[\"Time_taken(min)\"]=df2['Time_taken(min)'].str.replace(\"min\",\"\")\n",
    "df2[\"Time_taken(min)\"]=df2['Time_taken(min)'].str.replace(\"minutes\",\"\")\n",
    "df2[\"Time_taken(min)\"]=df2['Time_taken(min)'].str.replace(\"mins\",\"\")\n",
    "df2[\"Time_taken(min)\"]=df2['Time_taken(min)'].str.replace(\"utes\",\"\")\n",
    "df2[\"Time_taken(min)\"]=df2['Time_taken(min)'].str.replace(\"s\",\"\")"
   ]
  },
  {
   "cell_type": "code",
   "execution_count": null,
   "metadata": {},
   "outputs": [],
   "source": [
    "df2[\"Distance(in_km)\"]=df2['Distance(in_km)'].str.replace(\"km\",\"\")\n",
    "df2[\"Distance(in_km)\"]=df2['Distance(in_km)'].str.replace(\"Km\",\"\")\n",
    "df2[\"Distance(in_km)\"]=df2['Distance(in_km)'].str.replace(\" \",\"\")"
   ]
  },
  {
   "cell_type": "code",
   "execution_count": 27,
   "metadata": {},
   "outputs": [
    {
     "data": {
      "text/plain": [
       "array(['20', '3', '25to30', '12', '1.2', '5', '30', '2', '16-18', '17',\n",
       "       '10', '14', '11', '0.57', '4-5', '16', '2.5', '9', '1', '28', '8',\n",
       "       '19', '25', '27', '22', '29', '23', '26', '4', '15', '7', '24',\n",
       "       '21', '13'], dtype=object)"
      ]
     },
     "execution_count": 27,
     "metadata": {},
     "output_type": "execute_result"
    }
   ],
   "source": [
    "df2['Distance(in_km)'].unique()"
   ]
  },
  {
   "cell_type": "code",
   "execution_count": 46,
   "metadata": {},
   "outputs": [
    {
     "data": {
      "text/html": [
       "<div>\n",
       "<style scoped>\n",
       "    .dataframe tbody tr th:only-of-type {\n",
       "        vertical-align: middle;\n",
       "    }\n",
       "\n",
       "    .dataframe tbody tr th {\n",
       "        vertical-align: top;\n",
       "    }\n",
       "\n",
       "    .dataframe thead th {\n",
       "        text-align: right;\n",
       "    }\n",
       "</style>\n",
       "<table border=\"1\" class=\"dataframe\">\n",
       "  <thead>\n",
       "    <tr style=\"text-align: right;\">\n",
       "      <th></th>\n",
       "      <th>Unnamed: 0</th>\n",
       "      <th>Name</th>\n",
       "      <th>Age</th>\n",
       "      <th>Gender</th>\n",
       "      <th>Mode_of_transport</th>\n",
       "      <th>Distance(in_km)</th>\n",
       "      <th>Time_taken(min)</th>\n",
       "      <th>Amount_spent_monthly</th>\n",
       "      <th>Satisfaction</th>\n",
       "    </tr>\n",
       "  </thead>\n",
       "  <tbody>\n",
       "    <tr>\n",
       "      <th>3</th>\n",
       "      <td>3</td>\n",
       "      <td>Saad Shaikh</td>\n",
       "      <td>18</td>\n",
       "      <td>Male</td>\n",
       "      <td>Bike/ Scoter (Petrol)</td>\n",
       "      <td>25to30</td>\n",
       "      <td>35 to 40 mins</td>\n",
       "      <td>600</td>\n",
       "      <td>3</td>\n",
       "    </tr>\n",
       "  </tbody>\n",
       "</table>\n",
       "</div>"
      ],
      "text/plain": [
       "   Unnamed: 0         Name  Age Gender      Mode_of_transport Distance(in_km)  \\\n",
       "3           3  Saad Shaikh   18   Male  Bike/ Scoter (Petrol)          25to30   \n",
       "\n",
       "  Time_taken(min) Amount_spent_monthly  Satisfaction  \n",
       "3   35 to 40 mins                  600             3  "
      ]
     },
     "execution_count": 46,
     "metadata": {},
     "output_type": "execute_result"
    }
   ],
   "source": [
    "df2[df2[\"Distance(in_km)\"] == '25to30']\n"
   ]
  },
  {
   "cell_type": "code",
   "execution_count": 34,
   "metadata": {},
   "outputs": [
    {
     "data": {
      "text/html": [
       "<div>\n",
       "<style scoped>\n",
       "    .dataframe tbody tr th:only-of-type {\n",
       "        vertical-align: middle;\n",
       "    }\n",
       "\n",
       "    .dataframe tbody tr th {\n",
       "        vertical-align: top;\n",
       "    }\n",
       "\n",
       "    .dataframe thead th {\n",
       "        text-align: right;\n",
       "    }\n",
       "</style>\n",
       "<table border=\"1\" class=\"dataframe\">\n",
       "  <thead>\n",
       "    <tr style=\"text-align: right;\">\n",
       "      <th></th>\n",
       "      <th>Unnamed: 0</th>\n",
       "      <th>Name</th>\n",
       "      <th>Age</th>\n",
       "      <th>Gender</th>\n",
       "      <th>Mode_of_transport</th>\n",
       "      <th>Distance(in_km)</th>\n",
       "      <th>Time_taken(min)</th>\n",
       "      <th>Amount_spent_monthly</th>\n",
       "      <th>Satisfaction</th>\n",
       "    </tr>\n",
       "  </thead>\n",
       "  <tbody>\n",
       "    <tr>\n",
       "      <th>11</th>\n",
       "      <td>11</td>\n",
       "      <td>Unmesh Singnurkar</td>\n",
       "      <td>19</td>\n",
       "      <td>Male</td>\n",
       "      <td>Bike/ Scoter (Petrol)</td>\n",
       "      <td>16-18</td>\n",
       "      <td>1hr</td>\n",
       "      <td>2000</td>\n",
       "      <td>5</td>\n",
       "    </tr>\n",
       "  </tbody>\n",
       "</table>\n",
       "</div>"
      ],
      "text/plain": [
       "    Unnamed: 0                Name  Age Gender      Mode_of_transport  \\\n",
       "11          11  Unmesh Singnurkar    19   Male  Bike/ Scoter (Petrol)   \n",
       "\n",
       "   Distance(in_km) Time_taken(min) Amount_spent_monthly  Satisfaction  \n",
       "11           16-18             1hr                 2000             5  "
      ]
     },
     "execution_count": 34,
     "metadata": {},
     "output_type": "execute_result"
    }
   ],
   "source": [
    "df2[df2[\"Distance(in_km)\"] == '16-18']\n"
   ]
  },
  {
   "cell_type": "code",
   "execution_count": 33,
   "metadata": {},
   "outputs": [
    {
     "data": {
      "text/html": [
       "<div>\n",
       "<style scoped>\n",
       "    .dataframe tbody tr th:only-of-type {\n",
       "        vertical-align: middle;\n",
       "    }\n",
       "\n",
       "    .dataframe tbody tr th {\n",
       "        vertical-align: top;\n",
       "    }\n",
       "\n",
       "    .dataframe thead th {\n",
       "        text-align: right;\n",
       "    }\n",
       "</style>\n",
       "<table border=\"1\" class=\"dataframe\">\n",
       "  <thead>\n",
       "    <tr style=\"text-align: right;\">\n",
       "      <th></th>\n",
       "      <th>Unnamed: 0</th>\n",
       "      <th>Name</th>\n",
       "      <th>Age</th>\n",
       "      <th>Gender</th>\n",
       "      <th>Mode_of_transport</th>\n",
       "      <th>Distance(in_km)</th>\n",
       "      <th>Time_taken(min)</th>\n",
       "      <th>Amount_spent_monthly</th>\n",
       "      <th>Satisfaction</th>\n",
       "    </tr>\n",
       "  </thead>\n",
       "  <tbody>\n",
       "    <tr>\n",
       "      <th>20</th>\n",
       "      <td>20</td>\n",
       "      <td>Jui Lokhande</td>\n",
       "      <td>14</td>\n",
       "      <td>Female</td>\n",
       "      <td>Bus</td>\n",
       "      <td>4-5</td>\n",
       "      <td>45 mins</td>\n",
       "      <td>1000</td>\n",
       "      <td>2</td>\n",
       "    </tr>\n",
       "  </tbody>\n",
       "</table>\n",
       "</div>"
      ],
      "text/plain": [
       "    Unnamed: 0           Name  Age  Gender Mode_of_transport Distance(in_km)  \\\n",
       "20          20  Jui Lokhande    14  Female               Bus             4-5   \n",
       "\n",
       "   Time_taken(min) Amount_spent_monthly  Satisfaction  \n",
       "20         45 mins                 1000             2  "
      ]
     },
     "execution_count": 33,
     "metadata": {},
     "output_type": "execute_result"
    }
   ],
   "source": [
    "df2[df2[\"Distance(in_km)\"] == '4-5']\n"
   ]
  },
  {
   "cell_type": "code",
   "execution_count": 56,
   "metadata": {},
   "outputs": [],
   "source": [
    "df2.drop(df2[df2[\"Distance(in_km)\"] == '25to30'].index,inplace=True)"
   ]
  },
  {
   "cell_type": "code",
   "execution_count": 57,
   "metadata": {},
   "outputs": [],
   "source": [
    "df2.drop(df2[df2[\"Distance(in_km)\"] == '16-18'].index ,inplace= True)"
   ]
  },
  {
   "cell_type": "code",
   "execution_count": 58,
   "metadata": {},
   "outputs": [],
   "source": [
    "df2.drop(df2[df2[\"Distance(in_km)\"] == '4-5'].index ,inplace=True)"
   ]
  },
  {
   "cell_type": "code",
   "execution_count": 59,
   "metadata": {},
   "outputs": [
    {
     "data": {
      "text/plain": [
       "array(['20', '3', '12', '1.2', '5', '30', '2', '17', '10', '14', '11',\n",
       "       '0.57', '16', '2.5', '9', '1', '28', '8', '19', '25', '27', '22',\n",
       "       '29', '23', '26', '4', '15', '7', '24', '21', '13'], dtype=object)"
      ]
     },
     "execution_count": 59,
     "metadata": {},
     "output_type": "execute_result"
    }
   ],
   "source": [
    "df2['Distance(in_km)'].unique()"
   ]
  },
  {
   "cell_type": "code",
   "execution_count": 61,
   "metadata": {},
   "outputs": [],
   "source": [
    "df2['Distance(in_km)']=df2['Distance(in_km)'].astype('float')"
   ]
  },
  {
   "cell_type": "code",
   "execution_count": 62,
   "metadata": {},
   "outputs": [
    {
     "name": "stdout",
     "output_type": "stream",
     "text": [
      "<class 'pandas.core.frame.DataFrame'>\n",
      "Index: 74 entries, 0 to 76\n",
      "Data columns (total 9 columns):\n",
      " #   Column                Non-Null Count  Dtype  \n",
      "---  ------                --------------  -----  \n",
      " 0   Unnamed: 0            74 non-null     int64  \n",
      " 1   Name                  74 non-null     object \n",
      " 2   Age                   74 non-null     int64  \n",
      " 3   Gender                74 non-null     object \n",
      " 4   Mode_of_transport     74 non-null     object \n",
      " 5   Distance(in_km)       74 non-null     float64\n",
      " 6   Time_taken(min)       74 non-null     object \n",
      " 7   Amount_spent_monthly  74 non-null     object \n",
      " 8   Satisfaction          74 non-null     int64  \n",
      "dtypes: float64(1), int64(3), object(5)\n",
      "memory usage: 5.8+ KB\n"
     ]
    }
   ],
   "source": [
    "df2.info()"
   ]
  }
 ],
 "metadata": {
  "kernelspec": {
   "display_name": "Python 3",
   "language": "python",
   "name": "python3"
  },
  "language_info": {
   "codemirror_mode": {
    "name": "ipython",
    "version": 3
   },
   "file_extension": ".py",
   "mimetype": "text/x-python",
   "name": "python",
   "nbconvert_exporter": "python",
   "pygments_lexer": "ipython3",
   "version": "3.13.0"
  }
 },
 "nbformat": 4,
 "nbformat_minor": 2
}
